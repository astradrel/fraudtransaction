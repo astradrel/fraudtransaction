{
 "cells": [
  {
   "cell_type": "markdown",
   "id": "05802299",
   "metadata": {},
   "source": [
    "# Project Name: Credit Fraud Detection Predictive Model"
   ]
  },
  {
   "cell_type": "markdown",
   "id": "84103336",
   "metadata": {},
   "source": [
    "In this project, we will use dataset downloaded from https://www.kaggle.com/mlg-ulb/creditcardfraud to create predictive models to illustrate the accuracy of the models in detecting whether the payment transaction are normal or fraud. Due to privacy of the original dataset, the features are scaled, transformed and the names are not shown. "
   ]
  },
  {
   "cell_type": "markdown",
   "id": "61ca7584",
   "metadata": {},
   "source": [
    "## Project Outlines"
   ]
  },
  {
   "cell_type": "markdown",
   "id": "b68b6652",
   "metadata": {},
   "source": [
    "The project can be broken down to several outlines, and the whole process are refered to as a pipeline of a data science project that takes the dataset until the deployment of the model."
   ]
  },
  {
   "cell_type": "markdown",
   "id": "9229d741",
   "metadata": {},
   "source": [
    "1. Exploratory Data Analysis\n",
    "2. Feature Engineering\n",
    "3. Feature Selection\n",
    "4. Model Building\n",
    "5. Model Deployment"
   ]
  },
  {
   "cell_type": "markdown",
   "id": "7f7bfb55",
   "metadata": {},
   "source": [
    "## Basic Library Import"
   ]
  },
  {
   "cell_type": "code",
   "execution_count": 48,
   "id": "23c9ad62",
   "metadata": {},
   "outputs": [],
   "source": [
    "import warnings\n",
    "import pandas as pd\n",
    "import matplotlib.pyplot as plt\n",
    "import seaborn as sns\n",
    "import numpy as np\n",
    "from imblearn.under_sampling import NearMiss\n",
    "from imblearn.over_sampling import SMOTE\n",
    "from sklearn.model_selection import train_test_split\n",
    "from sklearn.linear_model import LogisticRegression\n",
    "from sklearn.tree import DecisionTreeClassifier\n",
    "from sklearn.neighbors import KNeighborsClassifier\n",
    "from sklearn.svm import SVC\n",
    "from sklearn.metrics import confusion_matrix, classification_report, f1_score, accuracy_score, precision_score, recall_score\n",
    "from sklearn.metrics import plot_confusion_matrix, roc_curve, roc_auc_score\n",
    "from sklearn.preprocessing import StandardScaler\n",
    "\n",
    "%matplotlib inline\n",
    "warnings.filterwarnings(\"ignore\")\n"
   ]
  },
  {
   "cell_type": "markdown",
   "id": "5a633966",
   "metadata": {},
   "source": [
    "## Exploratory Data Analysis"
   ]
  },
  {
   "cell_type": "markdown",
   "id": "f5356658",
   "metadata": {},
   "source": [
    "The first step in the project is to load the dataset and perform analysis on it. The purpose of the analysis is to gain insight from the dataset that will support the decision making when choosing the predictive models."
   ]
  },
  {
   "cell_type": "code",
   "execution_count": 2,
   "id": "c47dc6c1",
   "metadata": {},
   "outputs": [
    {
     "name": "stdout",
     "output_type": "stream",
     "text": [
      "The dataframe had 284807 number of rows and 31 number of columns\n"
     ]
    }
   ],
   "source": [
    "# Loading the dataset and finding the table shape\n",
    "\n",
    "df = pd.read_csv(\"creditcard.csv\")\n",
    "xshape, yshape = df.shape\n",
    "print(\"The dataframe had {} number of rows and {} number of columns\".format(xshape,yshape))"
   ]
  },
  {
   "cell_type": "markdown",
   "id": "aec922b1",
   "metadata": {},
   "source": [
    "From the data loadout above, we can see that the dataset contains 284807 samples and had 31 number of features which one of them would be the target variable."
   ]
  },
  {
   "cell_type": "code",
   "execution_count": 3,
   "id": "069e3f5e",
   "metadata": {
    "scrolled": false
   },
   "outputs": [
    {
     "data": {
      "text/html": [
       "<div>\n",
       "<style scoped>\n",
       "    .dataframe tbody tr th:only-of-type {\n",
       "        vertical-align: middle;\n",
       "    }\n",
       "\n",
       "    .dataframe tbody tr th {\n",
       "        vertical-align: top;\n",
       "    }\n",
       "\n",
       "    .dataframe thead th {\n",
       "        text-align: right;\n",
       "    }\n",
       "</style>\n",
       "<table border=\"1\" class=\"dataframe\">\n",
       "  <thead>\n",
       "    <tr style=\"text-align: right;\">\n",
       "      <th></th>\n",
       "      <th>Time</th>\n",
       "      <th>V1</th>\n",
       "      <th>V2</th>\n",
       "      <th>V3</th>\n",
       "      <th>V4</th>\n",
       "      <th>V5</th>\n",
       "      <th>V6</th>\n",
       "      <th>V7</th>\n",
       "      <th>V8</th>\n",
       "      <th>V9</th>\n",
       "      <th>...</th>\n",
       "      <th>V21</th>\n",
       "      <th>V22</th>\n",
       "      <th>V23</th>\n",
       "      <th>V24</th>\n",
       "      <th>V25</th>\n",
       "      <th>V26</th>\n",
       "      <th>V27</th>\n",
       "      <th>V28</th>\n",
       "      <th>Amount</th>\n",
       "      <th>Class</th>\n",
       "    </tr>\n",
       "  </thead>\n",
       "  <tbody>\n",
       "    <tr>\n",
       "      <th>0</th>\n",
       "      <td>0.0</td>\n",
       "      <td>-1.359807</td>\n",
       "      <td>-0.072781</td>\n",
       "      <td>2.536347</td>\n",
       "      <td>1.378155</td>\n",
       "      <td>-0.338321</td>\n",
       "      <td>0.462388</td>\n",
       "      <td>0.239599</td>\n",
       "      <td>0.098698</td>\n",
       "      <td>0.363787</td>\n",
       "      <td>...</td>\n",
       "      <td>-0.018307</td>\n",
       "      <td>0.277838</td>\n",
       "      <td>-0.110474</td>\n",
       "      <td>0.066928</td>\n",
       "      <td>0.128539</td>\n",
       "      <td>-0.189115</td>\n",
       "      <td>0.133558</td>\n",
       "      <td>-0.021053</td>\n",
       "      <td>149.62</td>\n",
       "      <td>0</td>\n",
       "    </tr>\n",
       "    <tr>\n",
       "      <th>1</th>\n",
       "      <td>0.0</td>\n",
       "      <td>1.191857</td>\n",
       "      <td>0.266151</td>\n",
       "      <td>0.166480</td>\n",
       "      <td>0.448154</td>\n",
       "      <td>0.060018</td>\n",
       "      <td>-0.082361</td>\n",
       "      <td>-0.078803</td>\n",
       "      <td>0.085102</td>\n",
       "      <td>-0.255425</td>\n",
       "      <td>...</td>\n",
       "      <td>-0.225775</td>\n",
       "      <td>-0.638672</td>\n",
       "      <td>0.101288</td>\n",
       "      <td>-0.339846</td>\n",
       "      <td>0.167170</td>\n",
       "      <td>0.125895</td>\n",
       "      <td>-0.008983</td>\n",
       "      <td>0.014724</td>\n",
       "      <td>2.69</td>\n",
       "      <td>0</td>\n",
       "    </tr>\n",
       "    <tr>\n",
       "      <th>2</th>\n",
       "      <td>1.0</td>\n",
       "      <td>-1.358354</td>\n",
       "      <td>-1.340163</td>\n",
       "      <td>1.773209</td>\n",
       "      <td>0.379780</td>\n",
       "      <td>-0.503198</td>\n",
       "      <td>1.800499</td>\n",
       "      <td>0.791461</td>\n",
       "      <td>0.247676</td>\n",
       "      <td>-1.514654</td>\n",
       "      <td>...</td>\n",
       "      <td>0.247998</td>\n",
       "      <td>0.771679</td>\n",
       "      <td>0.909412</td>\n",
       "      <td>-0.689281</td>\n",
       "      <td>-0.327642</td>\n",
       "      <td>-0.139097</td>\n",
       "      <td>-0.055353</td>\n",
       "      <td>-0.059752</td>\n",
       "      <td>378.66</td>\n",
       "      <td>0</td>\n",
       "    </tr>\n",
       "    <tr>\n",
       "      <th>3</th>\n",
       "      <td>1.0</td>\n",
       "      <td>-0.966272</td>\n",
       "      <td>-0.185226</td>\n",
       "      <td>1.792993</td>\n",
       "      <td>-0.863291</td>\n",
       "      <td>-0.010309</td>\n",
       "      <td>1.247203</td>\n",
       "      <td>0.237609</td>\n",
       "      <td>0.377436</td>\n",
       "      <td>-1.387024</td>\n",
       "      <td>...</td>\n",
       "      <td>-0.108300</td>\n",
       "      <td>0.005274</td>\n",
       "      <td>-0.190321</td>\n",
       "      <td>-1.175575</td>\n",
       "      <td>0.647376</td>\n",
       "      <td>-0.221929</td>\n",
       "      <td>0.062723</td>\n",
       "      <td>0.061458</td>\n",
       "      <td>123.50</td>\n",
       "      <td>0</td>\n",
       "    </tr>\n",
       "    <tr>\n",
       "      <th>4</th>\n",
       "      <td>2.0</td>\n",
       "      <td>-1.158233</td>\n",
       "      <td>0.877737</td>\n",
       "      <td>1.548718</td>\n",
       "      <td>0.403034</td>\n",
       "      <td>-0.407193</td>\n",
       "      <td>0.095921</td>\n",
       "      <td>0.592941</td>\n",
       "      <td>-0.270533</td>\n",
       "      <td>0.817739</td>\n",
       "      <td>...</td>\n",
       "      <td>-0.009431</td>\n",
       "      <td>0.798278</td>\n",
       "      <td>-0.137458</td>\n",
       "      <td>0.141267</td>\n",
       "      <td>-0.206010</td>\n",
       "      <td>0.502292</td>\n",
       "      <td>0.219422</td>\n",
       "      <td>0.215153</td>\n",
       "      <td>69.99</td>\n",
       "      <td>0</td>\n",
       "    </tr>\n",
       "    <tr>\n",
       "      <th>5</th>\n",
       "      <td>2.0</td>\n",
       "      <td>-0.425966</td>\n",
       "      <td>0.960523</td>\n",
       "      <td>1.141109</td>\n",
       "      <td>-0.168252</td>\n",
       "      <td>0.420987</td>\n",
       "      <td>-0.029728</td>\n",
       "      <td>0.476201</td>\n",
       "      <td>0.260314</td>\n",
       "      <td>-0.568671</td>\n",
       "      <td>...</td>\n",
       "      <td>-0.208254</td>\n",
       "      <td>-0.559825</td>\n",
       "      <td>-0.026398</td>\n",
       "      <td>-0.371427</td>\n",
       "      <td>-0.232794</td>\n",
       "      <td>0.105915</td>\n",
       "      <td>0.253844</td>\n",
       "      <td>0.081080</td>\n",
       "      <td>3.67</td>\n",
       "      <td>0</td>\n",
       "    </tr>\n",
       "    <tr>\n",
       "      <th>6</th>\n",
       "      <td>4.0</td>\n",
       "      <td>1.229658</td>\n",
       "      <td>0.141004</td>\n",
       "      <td>0.045371</td>\n",
       "      <td>1.202613</td>\n",
       "      <td>0.191881</td>\n",
       "      <td>0.272708</td>\n",
       "      <td>-0.005159</td>\n",
       "      <td>0.081213</td>\n",
       "      <td>0.464960</td>\n",
       "      <td>...</td>\n",
       "      <td>-0.167716</td>\n",
       "      <td>-0.270710</td>\n",
       "      <td>-0.154104</td>\n",
       "      <td>-0.780055</td>\n",
       "      <td>0.750137</td>\n",
       "      <td>-0.257237</td>\n",
       "      <td>0.034507</td>\n",
       "      <td>0.005168</td>\n",
       "      <td>4.99</td>\n",
       "      <td>0</td>\n",
       "    </tr>\n",
       "    <tr>\n",
       "      <th>7</th>\n",
       "      <td>7.0</td>\n",
       "      <td>-0.644269</td>\n",
       "      <td>1.417964</td>\n",
       "      <td>1.074380</td>\n",
       "      <td>-0.492199</td>\n",
       "      <td>0.948934</td>\n",
       "      <td>0.428118</td>\n",
       "      <td>1.120631</td>\n",
       "      <td>-3.807864</td>\n",
       "      <td>0.615375</td>\n",
       "      <td>...</td>\n",
       "      <td>1.943465</td>\n",
       "      <td>-1.015455</td>\n",
       "      <td>0.057504</td>\n",
       "      <td>-0.649709</td>\n",
       "      <td>-0.415267</td>\n",
       "      <td>-0.051634</td>\n",
       "      <td>-1.206921</td>\n",
       "      <td>-1.085339</td>\n",
       "      <td>40.80</td>\n",
       "      <td>0</td>\n",
       "    </tr>\n",
       "    <tr>\n",
       "      <th>8</th>\n",
       "      <td>7.0</td>\n",
       "      <td>-0.894286</td>\n",
       "      <td>0.286157</td>\n",
       "      <td>-0.113192</td>\n",
       "      <td>-0.271526</td>\n",
       "      <td>2.669599</td>\n",
       "      <td>3.721818</td>\n",
       "      <td>0.370145</td>\n",
       "      <td>0.851084</td>\n",
       "      <td>-0.392048</td>\n",
       "      <td>...</td>\n",
       "      <td>-0.073425</td>\n",
       "      <td>-0.268092</td>\n",
       "      <td>-0.204233</td>\n",
       "      <td>1.011592</td>\n",
       "      <td>0.373205</td>\n",
       "      <td>-0.384157</td>\n",
       "      <td>0.011747</td>\n",
       "      <td>0.142404</td>\n",
       "      <td>93.20</td>\n",
       "      <td>0</td>\n",
       "    </tr>\n",
       "    <tr>\n",
       "      <th>9</th>\n",
       "      <td>9.0</td>\n",
       "      <td>-0.338262</td>\n",
       "      <td>1.119593</td>\n",
       "      <td>1.044367</td>\n",
       "      <td>-0.222187</td>\n",
       "      <td>0.499361</td>\n",
       "      <td>-0.246761</td>\n",
       "      <td>0.651583</td>\n",
       "      <td>0.069539</td>\n",
       "      <td>-0.736727</td>\n",
       "      <td>...</td>\n",
       "      <td>-0.246914</td>\n",
       "      <td>-0.633753</td>\n",
       "      <td>-0.120794</td>\n",
       "      <td>-0.385050</td>\n",
       "      <td>-0.069733</td>\n",
       "      <td>0.094199</td>\n",
       "      <td>0.246219</td>\n",
       "      <td>0.083076</td>\n",
       "      <td>3.68</td>\n",
       "      <td>0</td>\n",
       "    </tr>\n",
       "  </tbody>\n",
       "</table>\n",
       "<p>10 rows × 31 columns</p>\n",
       "</div>"
      ],
      "text/plain": [
       "   Time        V1        V2        V3        V4        V5        V6        V7  \\\n",
       "0   0.0 -1.359807 -0.072781  2.536347  1.378155 -0.338321  0.462388  0.239599   \n",
       "1   0.0  1.191857  0.266151  0.166480  0.448154  0.060018 -0.082361 -0.078803   \n",
       "2   1.0 -1.358354 -1.340163  1.773209  0.379780 -0.503198  1.800499  0.791461   \n",
       "3   1.0 -0.966272 -0.185226  1.792993 -0.863291 -0.010309  1.247203  0.237609   \n",
       "4   2.0 -1.158233  0.877737  1.548718  0.403034 -0.407193  0.095921  0.592941   \n",
       "5   2.0 -0.425966  0.960523  1.141109 -0.168252  0.420987 -0.029728  0.476201   \n",
       "6   4.0  1.229658  0.141004  0.045371  1.202613  0.191881  0.272708 -0.005159   \n",
       "7   7.0 -0.644269  1.417964  1.074380 -0.492199  0.948934  0.428118  1.120631   \n",
       "8   7.0 -0.894286  0.286157 -0.113192 -0.271526  2.669599  3.721818  0.370145   \n",
       "9   9.0 -0.338262  1.119593  1.044367 -0.222187  0.499361 -0.246761  0.651583   \n",
       "\n",
       "         V8        V9  ...       V21       V22       V23       V24       V25  \\\n",
       "0  0.098698  0.363787  ... -0.018307  0.277838 -0.110474  0.066928  0.128539   \n",
       "1  0.085102 -0.255425  ... -0.225775 -0.638672  0.101288 -0.339846  0.167170   \n",
       "2  0.247676 -1.514654  ...  0.247998  0.771679  0.909412 -0.689281 -0.327642   \n",
       "3  0.377436 -1.387024  ... -0.108300  0.005274 -0.190321 -1.175575  0.647376   \n",
       "4 -0.270533  0.817739  ... -0.009431  0.798278 -0.137458  0.141267 -0.206010   \n",
       "5  0.260314 -0.568671  ... -0.208254 -0.559825 -0.026398 -0.371427 -0.232794   \n",
       "6  0.081213  0.464960  ... -0.167716 -0.270710 -0.154104 -0.780055  0.750137   \n",
       "7 -3.807864  0.615375  ...  1.943465 -1.015455  0.057504 -0.649709 -0.415267   \n",
       "8  0.851084 -0.392048  ... -0.073425 -0.268092 -0.204233  1.011592  0.373205   \n",
       "9  0.069539 -0.736727  ... -0.246914 -0.633753 -0.120794 -0.385050 -0.069733   \n",
       "\n",
       "        V26       V27       V28  Amount  Class  \n",
       "0 -0.189115  0.133558 -0.021053  149.62      0  \n",
       "1  0.125895 -0.008983  0.014724    2.69      0  \n",
       "2 -0.139097 -0.055353 -0.059752  378.66      0  \n",
       "3 -0.221929  0.062723  0.061458  123.50      0  \n",
       "4  0.502292  0.219422  0.215153   69.99      0  \n",
       "5  0.105915  0.253844  0.081080    3.67      0  \n",
       "6 -0.257237  0.034507  0.005168    4.99      0  \n",
       "7 -0.051634 -1.206921 -1.085339   40.80      0  \n",
       "8 -0.384157  0.011747  0.142404   93.20      0  \n",
       "9  0.094199  0.246219  0.083076    3.68      0  \n",
       "\n",
       "[10 rows x 31 columns]"
      ]
     },
     "execution_count": 3,
     "metadata": {},
     "output_type": "execute_result"
    }
   ],
   "source": [
    "# Shows the first 10 rows of the dataset\n",
    "\n",
    "df.head(10)"
   ]
  },
  {
   "cell_type": "markdown",
   "id": "bba8619d",
   "metadata": {},
   "source": [
    "As shown above, the dataset does not contain any insightful information such as names of features. As stated before, the dataset were scaled and underwent PCA transformation to protect the privacy of the dataset.The only features that were shown its name were Time and Amount with the Class as the target variable."
   ]
  },
  {
   "cell_type": "code",
   "execution_count": 4,
   "id": "a25dab03",
   "metadata": {},
   "outputs": [
    {
     "name": "stdout",
     "output_type": "stream",
     "text": [
      "The dataset had 284315 number of samples that belongs to Class 0 while 492 number of samples belongs to the Class 1\n"
     ]
    }
   ],
   "source": [
    "# Getting the count of the Class Variable \n",
    "\n",
    "print('The dataset had {} number of samples that belongs to Class 0 while {} number of samples belongs \\\n",
    "to the Class 1'.format(df['Class'].value_counts()[0],df['Class'].value_counts()[1]))"
   ]
  },
  {
   "cell_type": "code",
   "execution_count": 5,
   "id": "9d90bc29",
   "metadata": {
    "scrolled": true
   },
   "outputs": [
    {
     "data": {
      "image/png": "[encoded data removed]",
      "text/plain": [
       "<Figure size 432x288 with 1 Axes>"
      ]
     },
     "metadata": {
      "needs_background": "light"
     },
     "output_type": "display_data"
    }
   ],
   "source": [
    "# Visualize the count of the Class Variable \n",
    "\n",
    "ax = sns.countplot('Class',data=df, hue = 'Class', palette=['#432371',\"#FAAE7B\"], dodge=False)\n",
    "h,l = ax.get_legend_handles_labels()\n",
    "h,l = ax.get_legend_handles_labels()\n",
    "labels=[\"Normal\",\"Fraud\"]\n",
    "ax.legend(h,labels,title=\"Transaction\", loc=\"upper right\") \n",
    "plt.title('Distribution of Class Variable')\n",
    "plt.show()"
   ]
  },
  {
   "cell_type": "code",
   "execution_count": 6,
   "id": "415e0eb3",
   "metadata": {
    "scrolled": true
   },
   "outputs": [
    {
     "name": "stdout",
     "output_type": "stream",
     "text": [
      "The percentage of Normal Transaction: 99.83 %\n",
      "The percentage of Fraud Transaction: 0.17 %\n"
     ]
    }
   ],
   "source": [
    "print(\"The percentage of Normal Transaction: {:.2f} %\".format(df['Class'].value_counts()[0]/len(df)*100))\n",
    "print(\"The percentage of Fraud Transaction: {:.2f} %\".format(df['Class'].value_counts()[1]/len(df)*100))"
   ]
  },
  {
   "cell_type": "markdown",
   "id": "524217e3",
   "metadata": {},
   "source": [
    "Based on the graph and the percentage of total normal and fraud transaction in the dataset, we can say that the data was very imbalanced due to the fact majority of the samples identified as **Normal Transaction** (Class 0) with 99.83% whilst **Fraud Transaction** (Class 1) only made up the other 0.17%. If we perform predictive modelling on these dataset, surely the results will be heavily biased to the majority class since the frequency of 0 appearing is high."
   ]
  },
  {
   "cell_type": "code",
   "execution_count": 7,
   "id": "c78ed395",
   "metadata": {},
   "outputs": [
    {
     "data": {
      "text/plain": [
       "Time      0\n",
       "V1        0\n",
       "V2        0\n",
       "V3        0\n",
       "V4        0\n",
       "V5        0\n",
       "V6        0\n",
       "V7        0\n",
       "V8        0\n",
       "V9        0\n",
       "V10       0\n",
       "V11       0\n",
       "V12       0\n",
       "V13       0\n",
       "V14       0\n",
       "V15       0\n",
       "V16       0\n",
       "V17       0\n",
       "V18       0\n",
       "V19       0\n",
       "V20       0\n",
       "V21       0\n",
       "V22       0\n",
       "V23       0\n",
       "V24       0\n",
       "V25       0\n",
       "V26       0\n",
       "V27       0\n",
       "V28       0\n",
       "Amount    0\n",
       "Class     0\n",
       "dtype: int64"
      ]
     },
     "execution_count": 7,
     "metadata": {},
     "output_type": "execute_result"
    }
   ],
   "source": [
    "# Checking for null values \n",
    "\n",
    "df.isnull().sum()"
   ]
  },
  {
   "cell_type": "markdown",
   "id": "31fe0e81",
   "metadata": {},
   "source": [
    "The dataset contains no null value thus no value replacement needed to be done"
   ]
  },
  {
   "cell_type": "markdown",
   "id": "e7e96c90",
   "metadata": {},
   "source": [
    "## Data preprocessing"
   ]
  },
  {
   "cell_type": "markdown",
   "id": "daf82a26",
   "metadata": {},
   "source": [
    "Since most of the features are pre scaled with the expection of **Time** and **Amount**, we will want to perform features scaling on these two features. This is to ensure that the range of every features are in the same range and to prevent higher weightage given to feature with higher magnitude. \n",
    "\n",
    "Some machine learning algorithm like gradient descent-based Logistic Regression, distance-based K Nearest Neighbors are sensitive to the magnitude of features during its learning process which may affect the accuracy if the features are not scaled down beforehand."
   ]
  },
  {
   "cell_type": "code",
   "execution_count": 8,
   "id": "622ade46",
   "metadata": {},
   "outputs": [
    {
     "name": "stdout",
     "output_type": "stream",
     "text": [
      "(227845, 30)\n",
      "(56962, 30)\n",
      "(227845,)\n",
      "(56962,)\n"
     ]
    }
   ],
   "source": [
    "# First we perform train test split of the dataset with 20% for testing\n",
    "\n",
    "X = df.drop('Class', axis=1)\n",
    "y = df['Class']\n",
    "\n",
    "\n",
    "\n",
    "X_train, X_test, y_train, y_test = train_test_split(X, y, random_state=0, test_size=0.2 )\n",
    "\n",
    "print(X_train.shape)\n",
    "print(X_test.shape)\n",
    "print(y_train.shape)\n",
    "print(y_test.shape)"
   ]
  },
  {
   "cell_type": "code",
   "execution_count": 9,
   "id": "d0077b40",
   "metadata": {},
   "outputs": [],
   "source": [
    "# Performing standardization on the features for both training and test dataset\n",
    "\n",
    "X_train_scaled = X_train\n",
    "X_test_scaled = X_test\n",
    "\n",
    "# Training Set\n",
    "X_train_scaled['Amount_scaled'] = StandardScaler().fit_transform(X_train['Amount'].values.reshape(-1,1))\n",
    "X_train_scaled['Time_scaled'] = StandardScaler().fit_transform(X_train['Time'].values.reshape(-1,1))\n",
    "X_train_scaled = X_train_scaled.drop(['Amount','Time'],axis=1)\n",
    "\n",
    "# Test Set\n",
    "X_test_scaled['Amount_scaled'] = StandardScaler().fit_transform(X_test['Amount'].values.reshape(-1,1))\n",
    "X_test_scaled['Time_scaled'] = StandardScaler().fit_transform(X_test['Time'].values.reshape(-1,1))\n",
    "X_test_scaled = X_test_scaled.drop(['Amount','Time'],axis=1)"
   ]
  },
  {
   "cell_type": "code",
   "execution_count": 10,
   "id": "fae34acb",
   "metadata": {
    "scrolled": false
   },
   "outputs": [
    {
     "data": {
      "text/html": [
       "<div>\n",
       "<style scoped>\n",
       "    .dataframe tbody tr th:only-of-type {\n",
       "        vertical-align: middle;\n",
       "    }\n",
       "\n",
       "    .dataframe tbody tr th {\n",
       "        vertical-align: top;\n",
       "    }\n",
       "\n",
       "    .dataframe thead th {\n",
       "        text-align: right;\n",
       "    }\n",
       "</style>\n",
       "<table border=\"1\" class=\"dataframe\">\n",
       "  <thead>\n",
       "    <tr style=\"text-align: right;\">\n",
       "      <th></th>\n",
       "      <th>V1</th>\n",
       "      <th>V2</th>\n",
       "      <th>V3</th>\n",
       "      <th>V4</th>\n",
       "      <th>V5</th>\n",
       "      <th>V6</th>\n",
       "      <th>V7</th>\n",
       "      <th>V8</th>\n",
       "      <th>V9</th>\n",
       "      <th>V10</th>\n",
       "      <th>...</th>\n",
       "      <th>V21</th>\n",
       "      <th>V22</th>\n",
       "      <th>V23</th>\n",
       "      <th>V24</th>\n",
       "      <th>V25</th>\n",
       "      <th>V26</th>\n",
       "      <th>V27</th>\n",
       "      <th>V28</th>\n",
       "      <th>Amount_scaled</th>\n",
       "      <th>Time_scaled</th>\n",
       "    </tr>\n",
       "  </thead>\n",
       "  <tbody>\n",
       "    <tr>\n",
       "      <th>68806</th>\n",
       "      <td>-1.115047</td>\n",
       "      <td>1.035583</td>\n",
       "      <td>0.800712</td>\n",
       "      <td>-1.060398</td>\n",
       "      <td>0.032621</td>\n",
       "      <td>0.853422</td>\n",
       "      <td>-0.614243</td>\n",
       "      <td>-3.231161</td>\n",
       "      <td>1.539948</td>\n",
       "      <td>-0.816909</td>\n",
       "      <td>...</td>\n",
       "      <td>3.020385</td>\n",
       "      <td>-0.539618</td>\n",
       "      <td>0.033156</td>\n",
       "      <td>-0.774946</td>\n",
       "      <td>0.105868</td>\n",
       "      <td>-0.430853</td>\n",
       "      <td>0.229737</td>\n",
       "      <td>-0.070591</td>\n",
       "      <td>-0.305116</td>\n",
       "      <td>-0.877510</td>\n",
       "    </tr>\n",
       "    <tr>\n",
       "      <th>40018</th>\n",
       "      <td>1.228473</td>\n",
       "      <td>-0.138826</td>\n",
       "      <td>0.473795</td>\n",
       "      <td>-0.166381</td>\n",
       "      <td>-0.453564</td>\n",
       "      <td>-0.190135</td>\n",
       "      <td>-0.355309</td>\n",
       "      <td>0.048598</td>\n",
       "      <td>0.128943</td>\n",
       "      <td>-0.014495</td>\n",
       "      <td>...</td>\n",
       "      <td>-0.172147</td>\n",
       "      <td>-0.574730</td>\n",
       "      <td>0.036834</td>\n",
       "      <td>-0.303782</td>\n",
       "      <td>0.073315</td>\n",
       "      <td>0.810356</td>\n",
       "      <td>-0.069178</td>\n",
       "      <td>0.001890</td>\n",
       "      <td>-0.254237</td>\n",
       "      <td>-1.153085</td>\n",
       "    </tr>\n",
       "    <tr>\n",
       "      <th>250360</th>\n",
       "      <td>1.926148</td>\n",
       "      <td>-0.198628</td>\n",
       "      <td>-0.286727</td>\n",
       "      <td>1.596852</td>\n",
       "      <td>-0.488963</td>\n",
       "      <td>-0.311405</td>\n",
       "      <td>-0.303207</td>\n",
       "      <td>0.035513</td>\n",
       "      <td>1.301312</td>\n",
       "      <td>0.007083</td>\n",
       "      <td>...</td>\n",
       "      <td>-0.528432</td>\n",
       "      <td>-1.251300</td>\n",
       "      <td>0.455607</td>\n",
       "      <td>-0.120530</td>\n",
       "      <td>-0.361515</td>\n",
       "      <td>-1.099295</td>\n",
       "      <td>0.052747</td>\n",
       "      <td>-0.032622</td>\n",
       "      <td>-0.329508</td>\n",
       "      <td>1.263832</td>\n",
       "    </tr>\n",
       "    <tr>\n",
       "      <th>234820</th>\n",
       "      <td>2.046232</td>\n",
       "      <td>0.196183</td>\n",
       "      <td>-1.704650</td>\n",
       "      <td>0.530027</td>\n",
       "      <td>0.177496</td>\n",
       "      <td>-1.443091</td>\n",
       "      <td>0.255403</td>\n",
       "      <td>-0.365759</td>\n",
       "      <td>0.602945</td>\n",
       "      <td>-0.478188</td>\n",
       "      <td>...</td>\n",
       "      <td>0.201104</td>\n",
       "      <td>0.757245</td>\n",
       "      <td>-0.013600</td>\n",
       "      <td>-0.079318</td>\n",
       "      <td>0.234805</td>\n",
       "      <td>-0.098151</td>\n",
       "      <td>0.000028</td>\n",
       "      <td>-0.031675</td>\n",
       "      <td>-0.338982</td>\n",
       "      <td>1.122044</td>\n",
       "    </tr>\n",
       "    <tr>\n",
       "      <th>10001</th>\n",
       "      <td>-0.837077</td>\n",
       "      <td>1.034710</td>\n",
       "      <td>2.333129</td>\n",
       "      <td>3.103776</td>\n",
       "      <td>0.229143</td>\n",
       "      <td>0.501123</td>\n",
       "      <td>0.314283</td>\n",
       "      <td>-0.161583</td>\n",
       "      <td>0.409634</td>\n",
       "      <td>0.889521</td>\n",
       "      <td>...</td>\n",
       "      <td>-0.363839</td>\n",
       "      <td>-0.458101</td>\n",
       "      <td>0.164097</td>\n",
       "      <td>0.234167</td>\n",
       "      <td>-0.418734</td>\n",
       "      <td>-0.074078</td>\n",
       "      <td>-0.355165</td>\n",
       "      <td>-0.169616</td>\n",
       "      <td>-0.342046</td>\n",
       "      <td>-1.680363</td>\n",
       "    </tr>\n",
       "    <tr>\n",
       "      <th>231787</th>\n",
       "      <td>0.123810</td>\n",
       "      <td>1.338609</td>\n",
       "      <td>0.799669</td>\n",
       "      <td>4.241978</td>\n",
       "      <td>1.194155</td>\n",
       "      <td>1.140741</td>\n",
       "      <td>1.320351</td>\n",
       "      <td>-0.268736</td>\n",
       "      <td>-2.054370</td>\n",
       "      <td>1.540301</td>\n",
       "      <td>...</td>\n",
       "      <td>-0.208121</td>\n",
       "      <td>-0.396294</td>\n",
       "      <td>0.035339</td>\n",
       "      <td>-1.084909</td>\n",
       "      <td>-0.629119</td>\n",
       "      <td>0.124763</td>\n",
       "      <td>0.026103</td>\n",
       "      <td>-0.026466</td>\n",
       "      <td>-0.021046</td>\n",
       "      <td>1.096697</td>\n",
       "    </tr>\n",
       "    <tr>\n",
       "      <th>215592</th>\n",
       "      <td>2.034162</td>\n",
       "      <td>-0.219934</td>\n",
       "      <td>-1.212055</td>\n",
       "      <td>0.229131</td>\n",
       "      <td>-0.021588</td>\n",
       "      <td>-0.650617</td>\n",
       "      <td>-0.038320</td>\n",
       "      <td>-0.059248</td>\n",
       "      <td>0.520245</td>\n",
       "      <td>0.276677</td>\n",
       "      <td>...</td>\n",
       "      <td>-0.270274</td>\n",
       "      <td>-0.740615</td>\n",
       "      <td>0.311825</td>\n",
       "      <td>-0.434858</td>\n",
       "      <td>-0.347984</td>\n",
       "      <td>0.208867</td>\n",
       "      <td>-0.081039</td>\n",
       "      <td>-0.077228</td>\n",
       "      <td>-0.353335</td>\n",
       "      <td>0.953751</td>\n",
       "    </tr>\n",
       "    <tr>\n",
       "      <th>261861</th>\n",
       "      <td>-0.672118</td>\n",
       "      <td>-0.370901</td>\n",
       "      <td>1.713813</td>\n",
       "      <td>-0.132794</td>\n",
       "      <td>-1.664627</td>\n",
       "      <td>1.730900</td>\n",
       "      <td>0.608170</td>\n",
       "      <td>0.213284</td>\n",
       "      <td>1.827998</td>\n",
       "      <td>-1.364938</td>\n",
       "      <td>...</td>\n",
       "      <td>0.222280</td>\n",
       "      <td>1.232461</td>\n",
       "      <td>0.077220</td>\n",
       "      <td>0.753475</td>\n",
       "      <td>-0.685001</td>\n",
       "      <td>-0.316597</td>\n",
       "      <td>0.332133</td>\n",
       "      <td>0.160779</td>\n",
       "      <td>0.884745</td>\n",
       "      <td>1.376462</td>\n",
       "    </tr>\n",
       "    <tr>\n",
       "      <th>99817</th>\n",
       "      <td>-1.468507</td>\n",
       "      <td>-0.431667</td>\n",
       "      <td>2.182223</td>\n",
       "      <td>-1.269821</td>\n",
       "      <td>-2.312962</td>\n",
       "      <td>0.800401</td>\n",
       "      <td>-0.389934</td>\n",
       "      <td>-1.274083</td>\n",
       "      <td>2.996543</td>\n",
       "      <td>-1.951440</td>\n",
       "      <td>...</td>\n",
       "      <td>1.586763</td>\n",
       "      <td>0.433452</td>\n",
       "      <td>-0.166711</td>\n",
       "      <td>0.391805</td>\n",
       "      <td>0.042741</td>\n",
       "      <td>-0.552999</td>\n",
       "      <td>0.555174</td>\n",
       "      <td>0.042298</td>\n",
       "      <td>0.650587</td>\n",
       "      <td>-0.579703</td>\n",
       "    </tr>\n",
       "    <tr>\n",
       "      <th>147734</th>\n",
       "      <td>-1.123600</td>\n",
       "      <td>0.118142</td>\n",
       "      <td>1.595385</td>\n",
       "      <td>0.410842</td>\n",
       "      <td>0.186938</td>\n",
       "      <td>-0.459664</td>\n",
       "      <td>0.475917</td>\n",
       "      <td>0.009022</td>\n",
       "      <td>0.122368</td>\n",
       "      <td>-0.529117</td>\n",
       "      <td>...</td>\n",
       "      <td>0.304283</td>\n",
       "      <td>0.778930</td>\n",
       "      <td>-0.174272</td>\n",
       "      <td>-0.052045</td>\n",
       "      <td>0.093053</td>\n",
       "      <td>-0.552676</td>\n",
       "      <td>0.013675</td>\n",
       "      <td>0.236525</td>\n",
       "      <td>0.041807</td>\n",
       "      <td>-0.124677</td>\n",
       "    </tr>\n",
       "  </tbody>\n",
       "</table>\n",
       "<p>10 rows × 30 columns</p>\n",
       "</div>"
      ],
      "text/plain": [
       "              V1        V2        V3        V4        V5        V6        V7  \\\n",
       "68806  -1.115047  1.035583  0.800712 -1.060398  0.032621  0.853422 -0.614243   \n",
       "40018   1.228473 -0.138826  0.473795 -0.166381 -0.453564 -0.190135 -0.355309   \n",
       "250360  1.926148 -0.198628 -0.286727  1.596852 -0.488963 -0.311405 -0.303207   \n",
       "234820  2.046232  0.196183 -1.704650  0.530027  0.177496 -1.443091  0.255403   \n",
       "10001  -0.837077  1.034710  2.333129  3.103776  0.229143  0.501123  0.314283   \n",
       "231787  0.123810  1.338609  0.799669  4.241978  1.194155  1.140741  1.320351   \n",
       "215592  2.034162 -0.219934 -1.212055  0.229131 -0.021588 -0.650617 -0.038320   \n",
       "261861 -0.672118 -0.370901  1.713813 -0.132794 -1.664627  1.730900  0.608170   \n",
       "99817  -1.468507 -0.431667  2.182223 -1.269821 -2.312962  0.800401 -0.389934   \n",
       "147734 -1.123600  0.118142  1.595385  0.410842  0.186938 -0.459664  0.475917   \n",
       "\n",
       "              V8        V9       V10  ...       V21       V22       V23  \\\n",
       "68806  -3.231161  1.539948 -0.816909  ...  3.020385 -0.539618  0.033156   \n",
       "40018   0.048598  0.128943 -0.014495  ... -0.172147 -0.574730  0.036834   \n",
       "250360  0.035513  1.301312  0.007083  ... -0.528432 -1.251300  0.455607   \n",
       "234820 -0.365759  0.602945 -0.478188  ...  0.201104  0.757245 -0.013600   \n",
       "10001  -0.161583  0.409634  0.889521  ... -0.363839 -0.458101  0.164097   \n",
       "231787 -0.268736 -2.054370  1.540301  ... -0.208121 -0.396294  0.035339   \n",
       "215592 -0.059248  0.520245  0.276677  ... -0.270274 -0.740615  0.311825   \n",
       "261861  0.213284  1.827998 -1.364938  ...  0.222280  1.232461  0.077220   \n",
       "99817  -1.274083  2.996543 -1.951440  ...  1.586763  0.433452 -0.166711   \n",
       "147734  0.009022  0.122368 -0.529117  ...  0.304283  0.778930 -0.174272   \n",
       "\n",
       "             V24       V25       V26       V27       V28  Amount_scaled  \\\n",
       "68806  -0.774946  0.105868 -0.430853  0.229737 -0.070591      -0.305116   \n",
       "40018  -0.303782  0.073315  0.810356 -0.069178  0.001890      -0.254237   \n",
       "250360 -0.120530 -0.361515 -1.099295  0.052747 -0.032622      -0.329508   \n",
       "234820 -0.079318  0.234805 -0.098151  0.000028 -0.031675      -0.338982   \n",
       "10001   0.234167 -0.418734 -0.074078 -0.355165 -0.169616      -0.342046   \n",
       "231787 -1.084909 -0.629119  0.124763  0.026103 -0.026466      -0.021046   \n",
       "215592 -0.434858 -0.347984  0.208867 -0.081039 -0.077228      -0.353335   \n",
       "261861  0.753475 -0.685001 -0.316597  0.332133  0.160779       0.884745   \n",
       "99817   0.391805  0.042741 -0.552999  0.555174  0.042298       0.650587   \n",
       "147734 -0.052045  0.093053 -0.552676  0.013675  0.236525       0.041807   \n",
       "\n",
       "        Time_scaled  \n",
       "68806     -0.877510  \n",
       "40018     -1.153085  \n",
       "250360     1.263832  \n",
       "234820     1.122044  \n",
       "10001     -1.680363  \n",
       "231787     1.096697  \n",
       "215592     0.953751  \n",
       "261861     1.376462  \n",
       "99817     -0.579703  \n",
       "147734    -0.124677  \n",
       "\n",
       "[10 rows x 30 columns]"
      ]
     },
     "execution_count": 10,
     "metadata": {},
     "output_type": "execute_result"
    }
   ],
   "source": [
    "# Viewing the scaled train features\n",
    "\n",
    "X_train_scaled.head(10)"
   ]
  },
  {
   "cell_type": "code",
   "execution_count": 11,
   "id": "2e984e1f",
   "metadata": {},
   "outputs": [
    {
     "data": {
      "text/html": [
       "<div>\n",
       "<style scoped>\n",
       "    .dataframe tbody tr th:only-of-type {\n",
       "        vertical-align: middle;\n",
       "    }\n",
       "\n",
       "    .dataframe tbody tr th {\n",
       "        vertical-align: top;\n",
       "    }\n",
       "\n",
       "    .dataframe thead th {\n",
       "        text-align: right;\n",
       "    }\n",
       "</style>\n",
       "<table border=\"1\" class=\"dataframe\">\n",
       "  <thead>\n",
       "    <tr style=\"text-align: right;\">\n",
       "      <th></th>\n",
       "      <th>V1</th>\n",
       "      <th>V2</th>\n",
       "      <th>V3</th>\n",
       "      <th>V4</th>\n",
       "      <th>V5</th>\n",
       "      <th>V6</th>\n",
       "      <th>V7</th>\n",
       "      <th>V8</th>\n",
       "      <th>V9</th>\n",
       "      <th>V10</th>\n",
       "      <th>...</th>\n",
       "      <th>V21</th>\n",
       "      <th>V22</th>\n",
       "      <th>V23</th>\n",
       "      <th>V24</th>\n",
       "      <th>V25</th>\n",
       "      <th>V26</th>\n",
       "      <th>V27</th>\n",
       "      <th>V28</th>\n",
       "      <th>Amount_scaled</th>\n",
       "      <th>Time_scaled</th>\n",
       "    </tr>\n",
       "  </thead>\n",
       "  <tbody>\n",
       "    <tr>\n",
       "      <th>183484</th>\n",
       "      <td>-0.323334</td>\n",
       "      <td>1.057455</td>\n",
       "      <td>-0.048341</td>\n",
       "      <td>-0.607204</td>\n",
       "      <td>1.259821</td>\n",
       "      <td>-0.091761</td>\n",
       "      <td>1.159101</td>\n",
       "      <td>-0.124335</td>\n",
       "      <td>-0.174640</td>\n",
       "      <td>-1.644401</td>\n",
       "      <td>...</td>\n",
       "      <td>-0.207098</td>\n",
       "      <td>-0.433890</td>\n",
       "      <td>-0.261613</td>\n",
       "      <td>-0.046651</td>\n",
       "      <td>0.211512</td>\n",
       "      <td>0.008297</td>\n",
       "      <td>0.108494</td>\n",
       "      <td>0.161139</td>\n",
       "      <td>-0.182854</td>\n",
       "      <td>0.655188</td>\n",
       "    </tr>\n",
       "    <tr>\n",
       "      <th>255448</th>\n",
       "      <td>-0.349718</td>\n",
       "      <td>0.932619</td>\n",
       "      <td>0.142992</td>\n",
       "      <td>-0.657071</td>\n",
       "      <td>1.169784</td>\n",
       "      <td>-0.733369</td>\n",
       "      <td>1.009985</td>\n",
       "      <td>-0.071069</td>\n",
       "      <td>-0.302083</td>\n",
       "      <td>-1.192404</td>\n",
       "      <td>...</td>\n",
       "      <td>-0.271537</td>\n",
       "      <td>-0.833209</td>\n",
       "      <td>-0.030360</td>\n",
       "      <td>0.490035</td>\n",
       "      <td>-0.404816</td>\n",
       "      <td>0.134350</td>\n",
       "      <td>0.076830</td>\n",
       "      <td>0.175562</td>\n",
       "      <td>-0.330060</td>\n",
       "      <td>1.317402</td>\n",
       "    </tr>\n",
       "    <tr>\n",
       "      <th>244749</th>\n",
       "      <td>-1.614711</td>\n",
       "      <td>-2.406570</td>\n",
       "      <td>0.326194</td>\n",
       "      <td>0.665520</td>\n",
       "      <td>2.369268</td>\n",
       "      <td>-1.775367</td>\n",
       "      <td>-1.139049</td>\n",
       "      <td>0.329904</td>\n",
       "      <td>0.903813</td>\n",
       "      <td>-0.219013</td>\n",
       "      <td>...</td>\n",
       "      <td>0.701399</td>\n",
       "      <td>1.134489</td>\n",
       "      <td>0.965054</td>\n",
       "      <td>0.640981</td>\n",
       "      <td>-1.801998</td>\n",
       "      <td>-1.041114</td>\n",
       "      <td>0.286285</td>\n",
       "      <td>0.437322</td>\n",
       "      <td>0.033966</td>\n",
       "      <td>1.216976</td>\n",
       "    </tr>\n",
       "    <tr>\n",
       "      <th>63919</th>\n",
       "      <td>-2.477184</td>\n",
       "      <td>0.860613</td>\n",
       "      <td>1.441850</td>\n",
       "      <td>1.051019</td>\n",
       "      <td>-1.856621</td>\n",
       "      <td>2.078384</td>\n",
       "      <td>0.510828</td>\n",
       "      <td>-0.243399</td>\n",
       "      <td>-0.260691</td>\n",
       "      <td>0.133040</td>\n",
       "      <td>...</td>\n",
       "      <td>0.810408</td>\n",
       "      <td>0.692245</td>\n",
       "      <td>0.150121</td>\n",
       "      <td>-0.260777</td>\n",
       "      <td>0.005183</td>\n",
       "      <td>-0.177847</td>\n",
       "      <td>-0.510060</td>\n",
       "      <td>-0.660533</td>\n",
       "      <td>0.854786</td>\n",
       "      <td>-0.923595</td>\n",
       "    </tr>\n",
       "    <tr>\n",
       "      <th>11475</th>\n",
       "      <td>1.338831</td>\n",
       "      <td>-0.547264</td>\n",
       "      <td>0.737389</td>\n",
       "      <td>-0.212383</td>\n",
       "      <td>-1.110039</td>\n",
       "      <td>-0.525744</td>\n",
       "      <td>-0.801403</td>\n",
       "      <td>-0.063672</td>\n",
       "      <td>0.997276</td>\n",
       "      <td>0.113386</td>\n",
       "      <td>...</td>\n",
       "      <td>-0.139436</td>\n",
       "      <td>-0.074719</td>\n",
       "      <td>0.067055</td>\n",
       "      <td>0.333122</td>\n",
       "      <td>0.379087</td>\n",
       "      <td>-0.268706</td>\n",
       "      <td>-0.002769</td>\n",
       "      <td>0.003272</td>\n",
       "      <td>-0.318367</td>\n",
       "      <td>-1.577672</td>\n",
       "    </tr>\n",
       "    <tr>\n",
       "      <th>134016</th>\n",
       "      <td>0.039885</td>\n",
       "      <td>2.170693</td>\n",
       "      <td>-2.012595</td>\n",
       "      <td>1.653119</td>\n",
       "      <td>0.615994</td>\n",
       "      <td>-1.770922</td>\n",
       "      <td>0.704471</td>\n",
       "      <td>0.057144</td>\n",
       "      <td>-0.013400</td>\n",
       "      <td>-0.626777</td>\n",
       "      <td>...</td>\n",
       "      <td>-0.154384</td>\n",
       "      <td>0.009633</td>\n",
       "      <td>0.218813</td>\n",
       "      <td>0.248031</td>\n",
       "      <td>-0.507112</td>\n",
       "      <td>-0.420895</td>\n",
       "      <td>0.195478</td>\n",
       "      <td>-0.148335</td>\n",
       "      <td>-0.331879</td>\n",
       "      <td>-0.297892</td>\n",
       "    </tr>\n",
       "    <tr>\n",
       "      <th>204962</th>\n",
       "      <td>-0.415555</td>\n",
       "      <td>1.625917</td>\n",
       "      <td>1.622797</td>\n",
       "      <td>4.506173</td>\n",
       "      <td>-0.374560</td>\n",
       "      <td>0.901055</td>\n",
       "      <td>-0.405768</td>\n",
       "      <td>0.713219</td>\n",
       "      <td>-1.475385</td>\n",
       "      <td>1.357174</td>\n",
       "      <td>...</td>\n",
       "      <td>0.324710</td>\n",
       "      <td>1.126090</td>\n",
       "      <td>-0.110493</td>\n",
       "      <td>-0.068424</td>\n",
       "      <td>-0.658170</td>\n",
       "      <td>0.512898</td>\n",
       "      <td>0.377955</td>\n",
       "      <td>0.204762</td>\n",
       "      <td>-0.326575</td>\n",
       "      <td>0.859771</td>\n",
       "    </tr>\n",
       "    <tr>\n",
       "      <th>60121</th>\n",
       "      <td>1.449410</td>\n",
       "      <td>-0.468795</td>\n",
       "      <td>0.341725</td>\n",
       "      <td>-0.791574</td>\n",
       "      <td>-0.893115</td>\n",
       "      <td>-0.749088</td>\n",
       "      <td>-0.592331</td>\n",
       "      <td>-0.134093</td>\n",
       "      <td>-0.670525</td>\n",
       "      <td>0.625412</td>\n",
       "      <td>...</td>\n",
       "      <td>-0.137542</td>\n",
       "      <td>-0.531360</td>\n",
       "      <td>0.076941</td>\n",
       "      <td>-0.179287</td>\n",
       "      <td>0.287474</td>\n",
       "      <td>-0.446508</td>\n",
       "      <td>0.006978</td>\n",
       "      <td>0.015877</td>\n",
       "      <td>-0.313798</td>\n",
       "      <td>-0.960654</td>\n",
       "    </tr>\n",
       "    <tr>\n",
       "      <th>167362</th>\n",
       "      <td>1.971810</td>\n",
       "      <td>-1.200239</td>\n",
       "      <td>-2.830201</td>\n",
       "      <td>-1.670140</td>\n",
       "      <td>1.732721</td>\n",
       "      <td>3.287608</td>\n",
       "      <td>-1.111164</td>\n",
       "      <td>0.818960</td>\n",
       "      <td>-0.336061</td>\n",
       "      <td>0.226586</td>\n",
       "      <td>...</td>\n",
       "      <td>0.157371</td>\n",
       "      <td>0.191050</td>\n",
       "      <td>0.114907</td>\n",
       "      <td>0.622991</td>\n",
       "      <td>-0.123644</td>\n",
       "      <td>-0.192286</td>\n",
       "      <td>0.006081</td>\n",
       "      <td>-0.015564</td>\n",
       "      <td>0.091462</td>\n",
       "      <td>0.503726</td>\n",
       "    </tr>\n",
       "    <tr>\n",
       "      <th>112790</th>\n",
       "      <td>-1.367879</td>\n",
       "      <td>-0.238217</td>\n",
       "      <td>1.871754</td>\n",
       "      <td>3.050801</td>\n",
       "      <td>-1.438600</td>\n",
       "      <td>2.489319</td>\n",
       "      <td>1.154520</td>\n",
       "      <td>0.337130</td>\n",
       "      <td>-1.042234</td>\n",
       "      <td>0.456778</td>\n",
       "      <td>...</td>\n",
       "      <td>0.307356</td>\n",
       "      <td>1.050306</td>\n",
       "      <td>0.238809</td>\n",
       "      <td>-0.240770</td>\n",
       "      <td>-0.467593</td>\n",
       "      <td>0.350808</td>\n",
       "      <td>0.258001</td>\n",
       "      <td>0.083143</td>\n",
       "      <td>1.463896</td>\n",
       "      <td>-0.462381</td>\n",
       "    </tr>\n",
       "  </tbody>\n",
       "</table>\n",
       "<p>10 rows × 30 columns</p>\n",
       "</div>"
      ],
      "text/plain": [
       "              V1        V2        V3        V4        V5        V6        V7  \\\n",
       "183484 -0.323334  1.057455 -0.048341 -0.607204  1.259821 -0.091761  1.159101   \n",
       "255448 -0.349718  0.932619  0.142992 -0.657071  1.169784 -0.733369  1.009985   \n",
       "244749 -1.614711 -2.406570  0.326194  0.665520  2.369268 -1.775367 -1.139049   \n",
       "63919  -2.477184  0.860613  1.441850  1.051019 -1.856621  2.078384  0.510828   \n",
       "11475   1.338831 -0.547264  0.737389 -0.212383 -1.110039 -0.525744 -0.801403   \n",
       "134016  0.039885  2.170693 -2.012595  1.653119  0.615994 -1.770922  0.704471   \n",
       "204962 -0.415555  1.625917  1.622797  4.506173 -0.374560  0.901055 -0.405768   \n",
       "60121   1.449410 -0.468795  0.341725 -0.791574 -0.893115 -0.749088 -0.592331   \n",
       "167362  1.971810 -1.200239 -2.830201 -1.670140  1.732721  3.287608 -1.111164   \n",
       "112790 -1.367879 -0.238217  1.871754  3.050801 -1.438600  2.489319  1.154520   \n",
       "\n",
       "              V8        V9       V10  ...       V21       V22       V23  \\\n",
       "183484 -0.124335 -0.174640 -1.644401  ... -0.207098 -0.433890 -0.261613   \n",
       "255448 -0.071069 -0.302083 -1.192404  ... -0.271537 -0.833209 -0.030360   \n",
       "244749  0.329904  0.903813 -0.219013  ...  0.701399  1.134489  0.965054   \n",
       "63919  -0.243399 -0.260691  0.133040  ...  0.810408  0.692245  0.150121   \n",
       "11475  -0.063672  0.997276  0.113386  ... -0.139436 -0.074719  0.067055   \n",
       "134016  0.057144 -0.013400 -0.626777  ... -0.154384  0.009633  0.218813   \n",
       "204962  0.713219 -1.475385  1.357174  ...  0.324710  1.126090 -0.110493   \n",
       "60121  -0.134093 -0.670525  0.625412  ... -0.137542 -0.531360  0.076941   \n",
       "167362  0.818960 -0.336061  0.226586  ...  0.157371  0.191050  0.114907   \n",
       "112790  0.337130 -1.042234  0.456778  ...  0.307356  1.050306  0.238809   \n",
       "\n",
       "             V24       V25       V26       V27       V28  Amount_scaled  \\\n",
       "183484 -0.046651  0.211512  0.008297  0.108494  0.161139      -0.182854   \n",
       "255448  0.490035 -0.404816  0.134350  0.076830  0.175562      -0.330060   \n",
       "244749  0.640981 -1.801998 -1.041114  0.286285  0.437322       0.033966   \n",
       "63919  -0.260777  0.005183 -0.177847 -0.510060 -0.660533       0.854786   \n",
       "11475   0.333122  0.379087 -0.268706 -0.002769  0.003272      -0.318367   \n",
       "134016  0.248031 -0.507112 -0.420895  0.195478 -0.148335      -0.331879   \n",
       "204962 -0.068424 -0.658170  0.512898  0.377955  0.204762      -0.326575   \n",
       "60121  -0.179287  0.287474 -0.446508  0.006978  0.015877      -0.313798   \n",
       "167362  0.622991 -0.123644 -0.192286  0.006081 -0.015564       0.091462   \n",
       "112790 -0.240770 -0.467593  0.350808  0.258001  0.083143       1.463896   \n",
       "\n",
       "        Time_scaled  \n",
       "183484     0.655188  \n",
       "255448     1.317402  \n",
       "244749     1.216976  \n",
       "63919     -0.923595  \n",
       "11475     -1.577672  \n",
       "134016    -0.297892  \n",
       "204962     0.859771  \n",
       "60121     -0.960654  \n",
       "167362     0.503726  \n",
       "112790    -0.462381  \n",
       "\n",
       "[10 rows x 30 columns]"
      ]
     },
     "execution_count": 11,
     "metadata": {},
     "output_type": "execute_result"
    }
   ],
   "source": [
    "# Viewing the scaled test features\n",
    "\n",
    "X_test_scaled.head(10)"
   ]
  },
  {
   "cell_type": "code",
   "execution_count": 12,
   "id": "074369d4",
   "metadata": {
    "scrolled": true
   },
   "outputs": [
    {
     "name": "stdout",
     "output_type": "stream",
     "text": [
      "X_train_scaled: (227845, 30)\n",
      "X_test_scaled: (56962, 30)\n",
      "y_train: (227845,)\n",
      "y_train: (56962,)\n"
     ]
    }
   ],
   "source": [
    "# Lets check the dimension again for all training and test dataset\n",
    "\n",
    "print(\"X_train_scaled:\",X_train_scaled.shape)\n",
    "print(\"X_test_scaled:\",X_test_scaled.shape)\n",
    "print(\"y_train:\",y_train.shape)\n",
    "print(\"y_train:\",y_test.shape)"
   ]
  },
  {
   "cell_type": "markdown",
   "id": "8f6d11af",
   "metadata": {},
   "source": [
    "## Data Sampling"
   ]
  },
  {
   "cell_type": "markdown",
   "id": "9d36dea6",
   "metadata": {},
   "source": [
    "Since the dataset was heavily imbalanced to begin with, sampling on the dataset needed to be done through either **undersampling** or **oversampling**. These sampling method will ensure the distribution of the dataset for every class in the class feature to be same (50/50 ratio)."
   ]
  },
  {
   "cell_type": "markdown",
   "id": "e14497b2",
   "metadata": {},
   "source": [
    "## Undersampling: NearMiss "
   ]
  },
  {
   "cell_type": "markdown",
   "id": "af958d1c",
   "metadata": {},
   "source": [
    "Undersampling method is sampling method that reduces the abundant events to match with the rare events to make the distribution balance. In this dataset case, the number of Normal Transaction samples will be reduced to match the number of Fraud Transaction samples. "
   ]
  },
  {
   "cell_type": "markdown",
   "id": "f41388bb",
   "metadata": {},
   "source": [
    "For undersampling, we will use NearMiss algorithm which randomly balance the class distribution by eliminating majority class. If the instances of two different classes are close to each other, the instances of majority class will be remove to increase the spaces between the classes."
   ]
  },
  {
   "cell_type": "code",
   "execution_count": 13,
   "id": "e2aebeb8",
   "metadata": {},
   "outputs": [],
   "source": [
    "# Resampled the train set using NearMiss undersampling \n",
    "\n",
    "X_train_nm, y_train_nm = NearMiss().fit_resample(X_train_scaled, y_train)"
   ]
  },
  {
   "cell_type": "code",
   "execution_count": 14,
   "id": "a1c1286d",
   "metadata": {
    "scrolled": false
   },
   "outputs": [
    {
     "data": {
      "text/plain": [
       "([<matplotlib.axis.XTick at 0x2389a3533a0>,\n",
       "  <matplotlib.axis.XTick at 0x2389a353370>],\n",
       " [Text(0, 0, 'Normal'), Text(1, 0, 'Fraud')])"
      ]
     },
     "execution_count": 14,
     "metadata": {},
     "output_type": "execute_result"
    },
    {
     "data": {
      "image/png": "[encoded data removed]",
      "text/plain": [
       "<Figure size 432x432 with 1 Axes>"
      ]
     },
     "metadata": {},
     "output_type": "display_data"
    }
   ],
   "source": [
    "# Visualize the distribution of resampled class\n",
    "\n",
    "sns.set(rc={'figure.figsize':(6,6)})\n",
    "ax = sns.countplot(y_train_nm, hue=y_train_nm, palette=['#432371',\"#FAAE7B\"], dodge=False)\n",
    "labels=[\"Normal\",\"Fraud\"]\n",
    "ax.legend(h,labels,title=\"Transaction\", loc=\"upper right\") \n",
    "a, b =plt.xticks()\n",
    "plt.xticks(a,labels)\n"
   ]
  },
  {
   "cell_type": "code",
   "execution_count": 15,
   "id": "031346a1",
   "metadata": {},
   "outputs": [
    {
     "name": "stdout",
     "output_type": "stream",
     "text": [
      "The number undersampled Normal Transaction: 391 \n",
      "The number of undersampled Fraud Transaction: 391 \n"
     ]
    }
   ],
   "source": [
    "print(\"The number undersampled Normal Transaction: {} \".format(y_train_nm.value_counts()[0]))\n",
    "print(\"The number of undersampled Fraud Transaction: {} \".format(y_train_nm.value_counts()[1]))"
   ]
  },
  {
   "cell_type": "markdown",
   "id": "8cc03468",
   "metadata": {},
   "source": [
    "Using the NearMiss undersampling, we gain 391 number of samples for both class which are balance and can be train with our predictive models."
   ]
  },
  {
   "cell_type": "markdown",
   "id": "3bbfcfa4",
   "metadata": {},
   "source": [
    "## Undersampling: Predictive Modelling"
   ]
  },
  {
   "cell_type": "markdown",
   "id": "894d3f5d",
   "metadata": {},
   "source": [
    "### Logistic Regression"
   ]
  },
  {
   "cell_type": "code",
   "execution_count": 16,
   "id": "29756e21",
   "metadata": {
    "scrolled": false
   },
   "outputs": [
    {
     "name": "stdout",
     "output_type": "stream",
     "text": [
      "\u001b[1mNearMiss Logistic Regression\n",
      "Classification Report\n",
      "-----------------------------------------------------------\n",
      "              precision    recall  f1-score   support\n",
      "\n",
      "           0       1.00      0.59      0.74     56861\n",
      "           1       0.00      0.95      0.01       101\n",
      "\n",
      "    accuracy                           0.59     56962\n",
      "   macro avg       0.50      0.77      0.37     56962\n",
      "weighted avg       1.00      0.59      0.74     56962\n",
      "\n",
      "-----------------------------------------------------------\n"
     ]
    },
    {
     "data": {
      "image/png": "[encoded data removed]",
      "text/plain": [
       "<Figure size 432x432 with 2 Axes>"
      ]
     },
     "metadata": {},
     "output_type": "display_data"
    }
   ],
   "source": [
    "ULR = LogisticRegression().fit(X_train_nm, y_train_nm)\n",
    "ULR_pred = ULR.predict(X_test_scaled)\n",
    "ULR_cf = confusion_matrix(y_test, ULR_pred)\n",
    "ULR_cr = classification_report(y_test, ULR_pred)\n",
    "\n",
    "\n",
    "sns.heatmap(ULR_cf, annot=True, cmap=plt.cm.viridis,annot_kws={\"size\": 12},fmt=\"d\")\n",
    "plt.title(\"Confusion Matrix\", fontsize=12, pad=20)\n",
    "plt.xticks(ticks = (0.5, 1.5), labels = (\"Normal\",\"Fraud\"),fontsize=10)\n",
    "plt.yticks(ticks = (0.5, 1.5), labels = (\"Normal\",\"Fraud\"),rotation=0,fontsize=10)\n",
    "plt.ylabel(\"Actual Class\", labelpad=10)\n",
    "plt.xlabel(\"Predicted Class\", labelpad=10)\n",
    "print('\\033[1m' + 'NearMiss Logistic Regression')\n",
    "print(\"Classification Report\")\n",
    "print(\"-----------------------------------------------------------\")\n",
    "print(ULR_cr)\n",
    "print(\"-----------------------------------------------------------\")"
   ]
  },
  {
   "cell_type": "code",
   "execution_count": 17,
   "id": "1bdae6d1",
   "metadata": {},
   "outputs": [],
   "source": [
    "# NearMiss Logistic Regression Metrics\n",
    "\n",
    "TP,FN,FP,TN = ULR_cf.ravel()\n",
    "\n",
    "ULR_pre = round(TN/(TN+FN),2)\n",
    "ULR_rec = round(TN/(TN+FP),2)\n",
    "ULR_f1 = round(2*(((TN/(TN+FN))*(TN/(TN+FP)))/((TN/(TN+FN))+(TN/(TN+FP)))),2)\n",
    "ULR_acc = round((TP+TN)/(TP+TN+FP+FN),2)"
   ]
  },
  {
   "cell_type": "code",
   "execution_count": 18,
   "id": "761cf4b0",
   "metadata": {},
   "outputs": [],
   "source": [
    "# Generating False Positive Rate, True Positve Rate and Threshold\n",
    "\n",
    "ULR_fpr, ULR_tpr, ULR_threshold = roc_curve(y_test, ULR_pred)"
   ]
  },
  {
   "cell_type": "code",
   "execution_count": 19,
   "id": "6507a222",
   "metadata": {
    "scrolled": false
   },
   "outputs": [
    {
     "name": "stdout",
     "output_type": "stream",
     "text": [
      "\u001b[1mNearMiss Decision Tree\n",
      "Classification Report\n",
      "-----------------------------------------------------------\n",
      "              precision    recall  f1-score   support\n",
      "\n",
      "           0       1.00      0.26      0.42     56861\n",
      "           1       0.00      0.94      0.00       101\n",
      "\n",
      "    accuracy                           0.26     56962\n",
      "   macro avg       0.50      0.60      0.21     56962\n",
      "weighted avg       1.00      0.26      0.42     56962\n",
      "\n",
      "-----------------------------------------------------------\n"
     ]
    },
    {
     "data": {
      "image/png": "[encoded data removed]",
      "text/plain": [
       "<Figure size 432x432 with 2 Axes>"
      ]
     },
     "metadata": {},
     "output_type": "display_data"
    }
   ],
   "source": [
    "UDT = DecisionTreeClassifier().fit(X_train_nm, y_train_nm)\n",
    "UDT_pred = UDT.predict(X_test_scaled)\n",
    "UDT_cf = confusion_matrix(y_test, UDT_pred)\n",
    "UDT_cr = classification_report(y_test, UDT_pred)\n",
    "\n",
    "\n",
    "sns.heatmap(UDT_cf, annot=True, cmap=plt.cm.viridis,annot_kws={\"size\": 12},fmt=\"d\")\n",
    "plt.title(\"Confusion Matrix\", fontsize=12, pad=20)\n",
    "plt.xticks(ticks = (0.5, 1.5), labels = (\"Normal\",\"Fraud\"),fontsize=10)\n",
    "plt.yticks(ticks = (0.5, 1.5), labels = (\"Normal\",\"Fraud\"),rotation=0,fontsize=10)\n",
    "plt.ylabel(\"Actual Class\", labelpad=10)\n",
    "plt.xlabel(\"Predicted Class\", labelpad=10)\n",
    "print('\\033[1m' + 'NearMiss Decision Tree')\n",
    "print(\"Classification Report\")\n",
    "print(\"-----------------------------------------------------------\")\n",
    "print(UDT_cr)\n",
    "print(\"-----------------------------------------------------------\")"
   ]
  },
  {
   "cell_type": "code",
   "execution_count": 20,
   "id": "ebc1edfc",
   "metadata": {},
   "outputs": [],
   "source": [
    "# NearMiss Decision Tree Metrics\n",
    "\n",
    "TP,FN,FP,TN = UDT_cf.ravel()\n",
    "\n",
    "UDT_pre = round(TN/(TN+FN),2)\n",
    "UDT_rec = round(TN/(TN+FP),2)\n",
    "UDT_f1 = round(2*(((TN/(TN+FN))*(TN/(TN+FP)))/((TN/(TN+FN))+(TN/(TN+FP)))),2)\n",
    "UDT_acc = round((TP+TN)/(TP+TN+FP+FN),2)"
   ]
  },
  {
   "cell_type": "code",
   "execution_count": 21,
   "id": "39bcb9eb",
   "metadata": {},
   "outputs": [],
   "source": [
    "# Generating False Positive Rate, True Positve Rate and Threshold\n",
    "\n",
    "UDT_fpr, UDT_tpr, UDT_threshold = roc_curve(y_test, UDT_pred)"
   ]
  },
  {
   "cell_type": "code",
   "execution_count": 22,
   "id": "4da9b729",
   "metadata": {},
   "outputs": [
    {
     "name": "stdout",
     "output_type": "stream",
     "text": [
      "\u001b[1mNearMiss K-Nearest Neighbors\n",
      "Classification Report\n",
      "-----------------------------------------------------------\n",
      "              precision    recall  f1-score   support\n",
      "\n",
      "           0       1.00      0.69      0.82     56861\n",
      "           1       0.01      0.96      0.01       101\n",
      "\n",
      "    accuracy                           0.69     56962\n",
      "   macro avg       0.50      0.83      0.41     56962\n",
      "weighted avg       1.00      0.69      0.82     56962\n",
      "\n",
      "-----------------------------------------------------------\n"
     ]
    },
    {
     "data": {
      "image/png": "[encoded data removed]",
      "text/plain": [
       "<Figure size 432x432 with 2 Axes>"
      ]
     },
     "metadata": {},
     "output_type": "display_data"
    }
   ],
   "source": [
    "UKNN = KNeighborsClassifier().fit(X_train_nm, y_train_nm)\n",
    "UKNN_pred = UKNN.predict(X_test_scaled)\n",
    "UKNN_cf = confusion_matrix(y_test, UKNN_pred)\n",
    "UKNN_cr = classification_report(y_test, UKNN_pred)\n",
    "\n",
    "\n",
    "sns.heatmap(UKNN_cf, annot=True, cmap=plt.cm.viridis,annot_kws={\"size\": 12},fmt=\"d\")\n",
    "plt.title(\"Confusion Matrix\", fontsize=12, pad=20)\n",
    "plt.xticks(ticks = (0.5, 1.5), labels = (\"Normal\",\"Fraud\"),fontsize=10)\n",
    "plt.yticks(ticks = (0.5, 1.5), labels = (\"Normal\",\"Fraud\"),rotation=0,fontsize=10)\n",
    "plt.ylabel(\"Actual Class\", labelpad=10)\n",
    "plt.xlabel(\"Predicted Class\", labelpad=10)\n",
    "print('\\033[1m' + 'NearMiss K-Nearest Neighbors')\n",
    "print(\"Classification Report\")\n",
    "print(\"-----------------------------------------------------------\")\n",
    "print(UKNN_cr)\n",
    "print(\"-----------------------------------------------------------\")"
   ]
  },
  {
   "cell_type": "code",
   "execution_count": 23,
   "id": "93f68016",
   "metadata": {},
   "outputs": [],
   "source": [
    "# NearMiss K-Nearest Neighbors Metrics\n",
    "\n",
    "TP,FN,FP,TN = UKNN_cf.ravel()\n",
    "\n",
    "UKNN_pre = round(TN/(TN+FN),2)\n",
    "UKNN_rec = round(TN/(TN+FP),2)\n",
    "UKNN_f1 = round(2*(((TN/(TN+FN))*(TN/(TN+FP)))/((TN/(TN+FN))+(TN/(TN+FP)))),2)\n",
    "UKNN_acc = round((TP+TN)/(TP+TN+FP+FN),2)"
   ]
  },
  {
   "cell_type": "code",
   "execution_count": 24,
   "id": "9b08ffd5",
   "metadata": {},
   "outputs": [],
   "source": [
    "# Generating False Positive Rate, True Positve Rate and Threshold\n",
    "\n",
    "UKNN_fpr, UKNN_tpr, UKNN_threshold = roc_curve(y_test, UKNN_pred)"
   ]
  },
  {
   "cell_type": "code",
   "execution_count": 25,
   "id": "e6c49bbb",
   "metadata": {},
   "outputs": [
    {
     "name": "stdout",
     "output_type": "stream",
     "text": [
      "\u001b[1mNearMiss Support Vector Machine\n",
      "Classification Report\n",
      "-----------------------------------------------------------\n",
      "              precision    recall  f1-score   support\n",
      "\n",
      "           0       1.00      0.90      0.95     56861\n",
      "           1       0.02      0.88      0.03       101\n",
      "\n",
      "    accuracy                           0.90     56962\n",
      "   macro avg       0.51      0.89      0.49     56962\n",
      "weighted avg       1.00      0.90      0.95     56962\n",
      "\n",
      "-----------------------------------------------------------\n"
     ]
    },
    {
     "data": {
      "image/png": "[encoded data removed]",
      "text/plain": [
       "<Figure size 432x432 with 2 Axes>"
      ]
     },
     "metadata": {},
     "output_type": "display_data"
    }
   ],
   "source": [
    "USVM = SVC().fit(X_train_nm, y_train_nm)\n",
    "USVM_pred = USVM.predict(X_test_scaled)\n",
    "USVM_cf = confusion_matrix(y_test, USVM_pred)\n",
    "USVM_cr = classification_report(y_test, USVM_pred)\n",
    "\n",
    "\n",
    "sns.heatmap(USVM_cf, annot=True, cmap=plt.cm.viridis,annot_kws={\"size\": 12},fmt=\"d\")\n",
    "plt.title(\"Confusion Matrix\", fontsize=12, pad=20)\n",
    "plt.xticks(ticks = (0.5, 1.5), labels = (\"Normal\",\"Fraud\"),fontsize=10)\n",
    "plt.yticks(ticks = (0.5, 1.5), labels = (\"Normal\",\"Fraud\"),rotation=0,fontsize=10)\n",
    "plt.ylabel(\"Actual Class\", labelpad=10)\n",
    "plt.xlabel(\"Predicted Class\", labelpad=10)\n",
    "print('\\033[1m' + 'NearMiss Support Vector Machine')\n",
    "print(\"Classification Report\")\n",
    "print(\"-----------------------------------------------------------\")\n",
    "print(USVM_cr)\n",
    "print(\"-----------------------------------------------------------\")"
   ]
  },
  {
   "cell_type": "code",
   "execution_count": 26,
   "id": "e7dba030",
   "metadata": {},
   "outputs": [],
   "source": [
    "# NearMiss Support Vector Machine Metrics\n",
    "\n",
    "TP,FN,FP,TN = USVM_cf.ravel()\n",
    "\n",
    "USVM_pre = round(TN/(TN+FN),2)\n",
    "USVM_rec = round(TN/(TN+FP),2)\n",
    "USVM_f1 = round(2*(((TN/(TN+FN))*(TN/(TN+FP)))/((TN/(TN+FN))+(TN/(TN+FP)))),2)\n",
    "USVM_acc = round((TP+TN)/(TP+TN+FP+FN),2)"
   ]
  },
  {
   "cell_type": "code",
   "execution_count": 27,
   "id": "2c006b43",
   "metadata": {},
   "outputs": [],
   "source": [
    "# Generating False Positive Rate, True Positve Rate and Threshold\n",
    "\n",
    "USVM_fpr, USVM_tpr, USVM_threshold = roc_curve(y_test, USVM_pred)"
   ]
  },
  {
   "cell_type": "markdown",
   "id": "6f0269bf",
   "metadata": {},
   "source": [
    "## Oversampling: SMOTE "
   ]
  },
  {
   "cell_type": "markdown",
   "id": "9b8de1b7",
   "metadata": {},
   "source": [
    "Oversampling method is sampling method that increase the rare events to match with the abundant events to make the distribution balance. In this dataset case, the number of Fraud Transaction samples will be increases to match the number of Normal Transaction samples. "
   ]
  },
  {
   "cell_type": "markdown",
   "id": "7469c7da",
   "metadata": {},
   "source": [
    "SMOTE or Synthetic Minority Oversampling Technique will duplicate the minority class so that its match with the amount of the majority class. SMOTE works by selecting examples that are close with each other in the feature space, drawing a line in between it and drawing new sample at a point along the line."
   ]
  },
  {
   "cell_type": "code",
   "execution_count": 28,
   "id": "c6fafcd1",
   "metadata": {},
   "outputs": [],
   "source": [
    "# Resampled the train set using SMOTE\n",
    "\n",
    "X_train_SMOTE, y_train_SMOTE = SMOTE().fit_resample(X_train_scaled, y_train)"
   ]
  },
  {
   "cell_type": "code",
   "execution_count": 29,
   "id": "15861997",
   "metadata": {},
   "outputs": [
    {
     "data": {
      "text/plain": [
       "([<matplotlib.axis.XTick at 0x2389a8af730>,\n",
       "  <matplotlib.axis.XTick at 0x2389a8af700>],\n",
       " [Text(0, 0, 'Normal'), Text(1, 0, 'Fraud')])"
      ]
     },
     "execution_count": 29,
     "metadata": {},
     "output_type": "execute_result"
    },
    {
     "data": {
      "image/png": "[encoded data removed]",
      "text/plain": [
       "<Figure size 432x432 with 1 Axes>"
      ]
     },
     "metadata": {},
     "output_type": "display_data"
    }
   ],
   "source": [
    "# Visualize the distribution of resampled class\n",
    "\n",
    "sns.set(rc={'figure.figsize':(6,6)})\n",
    "ax = sns.countplot(y_train_SMOTE, hue=y_train_SMOTE, palette=['#432371',\"#FAAE7B\"], dodge=False)\n",
    "labels=[\"Normal\",\"Fraud\"]\n",
    "ax.legend(h,labels,title=\"Transaction\", loc=\"upper right\") \n",
    "a, b =plt.xticks()\n",
    "plt.xticks(a,labels)\n"
   ]
  },
  {
   "cell_type": "code",
   "execution_count": 30,
   "id": "4dc4af10",
   "metadata": {},
   "outputs": [
    {
     "name": "stdout",
     "output_type": "stream",
     "text": [
      "The number oversampled Normal Transaction: 227454 \n",
      "The number of oversampled Fraud Transaction: 227454 \n"
     ]
    }
   ],
   "source": [
    "print(\"The number oversampled Normal Transaction: {} \".format(y_train_SMOTE.value_counts()[0]))\n",
    "print(\"The number of oversampled Fraud Transaction: {} \".format(y_train_SMOTE.value_counts()[1]))"
   ]
  },
  {
   "cell_type": "markdown",
   "id": "83e2345c",
   "metadata": {},
   "source": [
    "Using the SMOTE oversampling, we get 227454 samples for both class which the minority class 1 were increased through oversampling to match the majority class 0."
   ]
  },
  {
   "cell_type": "markdown",
   "id": "3cacb81b",
   "metadata": {},
   "source": [
    "## Oversampling: Predictive Modelling"
   ]
  },
  {
   "cell_type": "code",
   "execution_count": 31,
   "id": "d07ee499",
   "metadata": {},
   "outputs": [
    {
     "name": "stdout",
     "output_type": "stream",
     "text": [
      "\u001b[1mSMOTE Logistic Regression\n",
      "Classification Report\n",
      "-----------------------------------------------------------\n",
      "              precision    recall  f1-score   support\n",
      "\n",
      "           0       1.00      0.98      0.99     56861\n",
      "           1       0.06      0.94      0.12       101\n",
      "\n",
      "    accuracy                           0.98     56962\n",
      "   macro avg       0.53      0.96      0.55     56962\n",
      "weighted avg       1.00      0.98      0.99     56962\n",
      "\n",
      "-----------------------------------------------------------\n"
     ]
    },
    {
     "data": {
      "image/png": "[encoded data removed]",
      "text/plain": [
       "<Figure size 432x432 with 2 Axes>"
      ]
     },
     "metadata": {},
     "output_type": "display_data"
    }
   ],
   "source": [
    "OLR = LogisticRegression().fit(X_train_SMOTE, y_train_SMOTE)\n",
    "OLR_pred = OLR.predict(X_test_scaled)\n",
    "OLR_cf = confusion_matrix(y_test, OLR_pred)\n",
    "OLR_cr = classification_report(y_test, OLR_pred)\n",
    "\n",
    "\n",
    "sns.heatmap(OLR_cf, annot=True, cmap=plt.cm.viridis,annot_kws={\"size\": 12},fmt=\"d\")\n",
    "plt.title(\"Confusion Matrix\", fontsize=12, pad=20)\n",
    "plt.xticks(ticks = (0.5, 1.5), labels = (\"Normal\",\"Fraud\"),fontsize=10)\n",
    "plt.yticks(ticks = (0.5, 1.5), labels = (\"Normal\",\"Fraud\"),rotation=0,fontsize=10)\n",
    "plt.ylabel(\"Actual Class\", labelpad=10)\n",
    "plt.xlabel(\"Predicted Class\", labelpad=10)\n",
    "print('\\033[1m' + 'SMOTE Logistic Regression')\n",
    "print(\"Classification Report\")\n",
    "print(\"-----------------------------------------------------------\")\n",
    "print(OLR_cr)\n",
    "print(\"-----------------------------------------------------------\")"
   ]
  },
  {
   "cell_type": "code",
   "execution_count": 32,
   "id": "e5a98eb9",
   "metadata": {},
   "outputs": [],
   "source": [
    "# SMOTE Logistic Regression Metrics\n",
    "\n",
    "TP,FN,FP,TN = OLR_cf.ravel()\n",
    "\n",
    "OLR_pre = round(TN/(TN+FN),2)\n",
    "OLR_rec = round(TN/(TN+FP),2)\n",
    "OLR_f1 = round(2*(((TN/(TN+FN))*(TN/(TN+FP)))/((TN/(TN+FN))+(TN/(TN+FP)))),2)\n",
    "OLR_acc = round((TP+TN)/(TP+TN+FP+FN),2)\n",
    "       "
   ]
  },
  {
   "cell_type": "code",
   "execution_count": 33,
   "id": "dbf6a367",
   "metadata": {},
   "outputs": [],
   "source": [
    "# Generating False Positive Rate, True Positve Rate and Threshold\n",
    "\n",
    "OLR_fpr, OLR_tpr, OLR_threshold = roc_curve(y_test, OLR_pred)"
   ]
  },
  {
   "cell_type": "code",
   "execution_count": 34,
   "id": "d9ac54ab",
   "metadata": {},
   "outputs": [
    {
     "name": "stdout",
     "output_type": "stream",
     "text": [
      "\u001b[1mSMOTE Decision Tree\n",
      "Classification Report\n",
      "-----------------------------------------------------------\n",
      "              precision    recall  f1-score   support\n",
      "\n",
      "           0       1.00      1.00      1.00     56861\n",
      "           1       0.29      0.79      0.43       101\n",
      "\n",
      "    accuracy                           1.00     56962\n",
      "   macro avg       0.65      0.89      0.71     56962\n",
      "weighted avg       1.00      1.00      1.00     56962\n",
      "\n",
      "-----------------------------------------------------------\n"
     ]
    },
    {
     "data": {
      "image/png": "[encoded data removed]",
      "text/plain": [
       "<Figure size 432x432 with 2 Axes>"
      ]
     },
     "metadata": {},
     "output_type": "display_data"
    }
   ],
   "source": [
    "ODT = DecisionTreeClassifier().fit(X_train_SMOTE, y_train_SMOTE)\n",
    "ODT_pred = ODT.predict(X_test_scaled)\n",
    "ODT_cf = confusion_matrix(y_test, ODT_pred)\n",
    "ODT_cr = classification_report(y_test, ODT_pred)\n",
    "\n",
    "\n",
    "sns.heatmap(ODT_cf, annot=True, cmap=plt.cm.viridis,annot_kws={\"size\": 12},fmt=\"d\")\n",
    "plt.title(\"Confusion Matrix\", fontsize=12, pad=20)\n",
    "plt.xticks(ticks = (0.5, 1.5), labels = (\"Normal\",\"Fraud\"),fontsize=10)\n",
    "plt.yticks(ticks = (0.5, 1.5), labels = (\"Normal\",\"Fraud\"),rotation=0,fontsize=10)\n",
    "plt.ylabel(\"Actual Class\", labelpad=10)\n",
    "plt.xlabel(\"Predicted Class\", labelpad=10)\n",
    "print('\\033[1m' + 'SMOTE Decision Tree')\n",
    "print(\"Classification Report\")\n",
    "print(\"-----------------------------------------------------------\")\n",
    "print(ODT_cr)\n",
    "print(\"-----------------------------------------------------------\")"
   ]
  },
  {
   "cell_type": "code",
   "execution_count": 35,
   "id": "51fa56c8",
   "metadata": {},
   "outputs": [],
   "source": [
    "# SMOTE Decision Tree Metrics\n",
    "\n",
    "TP,FN,FP,TN = ODT_cf.ravel()\n",
    "\n",
    "ODT_pre = round(TN/(TN+FN),2)\n",
    "ODT_rec = round(TN/(TN+FP),2)\n",
    "ODT_f1 = round(2*(((TN/(TN+FN))*(TN/(TN+FP)))/((TN/(TN+FN))+(TN/(TN+FP)))),2)\n",
    "ODT_acc = round((TP+TN)/(TP+TN+FP+FN),2)"
   ]
  },
  {
   "cell_type": "code",
   "execution_count": 36,
   "id": "dcb45cfb",
   "metadata": {},
   "outputs": [],
   "source": [
    "# Generating False Positive Rate, True Positve Rate and Threshold\n",
    "\n",
    "ODT_fpr, ODT_tpr, ODT_threshold = roc_curve(y_test, ODT_pred)"
   ]
  },
  {
   "cell_type": "code",
   "execution_count": 37,
   "id": "35cc727e",
   "metadata": {},
   "outputs": [
    {
     "name": "stdout",
     "output_type": "stream",
     "text": [
      "\u001b[1mSMOTE K-Nearest Neighbors\n",
      "Classification Report\n",
      "-----------------------------------------------------------\n",
      "              precision    recall  f1-score   support\n",
      "\n",
      "           0       1.00      1.00      1.00     56861\n",
      "           1       0.50      0.88      0.64       101\n",
      "\n",
      "    accuracy                           1.00     56962\n",
      "   macro avg       0.75      0.94      0.82     56962\n",
      "weighted avg       1.00      1.00      1.00     56962\n",
      "\n",
      "-----------------------------------------------------------\n"
     ]
    },
    {
     "data": {
      "image/png": "[encoded data removed]",
      "text/plain": [
       "<Figure size 432x432 with 2 Axes>"
      ]
     },
     "metadata": {},
     "output_type": "display_data"
    }
   ],
   "source": [
    "OKNN = KNeighborsClassifier().fit(X_train_SMOTE, y_train_SMOTE)\n",
    "OKNN_pred = OKNN.predict(X_test_scaled)\n",
    "OKNN_cf = confusion_matrix(y_test, OKNN_pred)\n",
    "OKNN_cr = classification_report(y_test, OKNN_pred)\n",
    "\n",
    "\n",
    "sns.heatmap(OKNN_cf, annot=True, cmap=plt.cm.viridis,annot_kws={\"size\": 12},fmt=\"d\")\n",
    "plt.title(\"Confusion Matrix\", fontsize=12, pad=20)\n",
    "plt.xticks(ticks = (0.5, 1.5), labels = (\"Normal\",\"Fraud\"),fontsize=10)\n",
    "plt.yticks(ticks = (0.5, 1.5), labels = (\"Normal\",\"Fraud\"),rotation=0,fontsize=10)\n",
    "plt.ylabel(\"Actual Class\", labelpad=10)\n",
    "plt.xlabel(\"Predicted Class\", labelpad=10)\n",
    "print('\\033[1m' + 'SMOTE K-Nearest Neighbors')\n",
    "print(\"Classification Report\")\n",
    "print(\"-----------------------------------------------------------\")\n",
    "print(OKNN_cr)\n",
    "print(\"-----------------------------------------------------------\")"
   ]
  },
  {
   "cell_type": "code",
   "execution_count": 38,
   "id": "4c27b175",
   "metadata": {},
   "outputs": [],
   "source": [
    "# SMOTE K-Nearest Neighbors Metrics\n",
    "\n",
    "TP,FN,FP,TN = OKNN_cf.ravel()\n",
    "\n",
    "OKNN_pre = round(TN/(TN+FN),2)\n",
    "OKNN_rec = round(TN/(TN+FP),2)\n",
    "OKNN_f1 = round(2*(((TN/(TN+FN))*(TN/(TN+FP)))/((TN/(TN+FN))+(TN/(TN+FP)))),2)\n",
    "OKNN_acc = round((TP+TN)/(TP+TN+FP+FN),2)"
   ]
  },
  {
   "cell_type": "code",
   "execution_count": 39,
   "id": "3bdb7758",
   "metadata": {},
   "outputs": [],
   "source": [
    "# Generating False Positive Rate, True Positve Rate and Threshold\n",
    "\n",
    "OKNN_fpr, OKNN_tpr, OKNN_threshold = roc_curve(y_test, OKNN_pred)"
   ]
  },
  {
   "cell_type": "code",
   "execution_count": 41,
   "id": "fe0c4b7d",
   "metadata": {
    "scrolled": false
   },
   "outputs": [
    {
     "name": "stdout",
     "output_type": "stream",
     "text": [
      "\u001b[1mSMOTE Support Vector Machine\n",
      "Classification Report\n",
      "-----------------------------------------------------------\n",
      "              precision    recall  f1-score   support\n",
      "\n",
      "           0       1.00      0.99      0.99     56861\n",
      "           1       0.10      0.92      0.18       101\n",
      "\n",
      "    accuracy                           0.99     56962\n",
      "   macro avg       0.55      0.95      0.59     56962\n",
      "weighted avg       1.00      0.99      0.99     56962\n",
      "\n",
      "-----------------------------------------------------------\n"
     ]
    },
    {
     "data": {
      "image/png": "[encoded data removed]",
      "text/plain": [
       "<Figure size 432x432 with 2 Axes>"
      ]
     },
     "metadata": {},
     "output_type": "display_data"
    }
   ],
   "source": [
    "OSVM = SVC().fit(X_train_SMOTE, y_train_SMOTE)\n",
    "OSVM_pred = OSVM.predict(X_test_scaled)\n",
    "OSVM_cf = confusion_matrix(y_test, OSVM_pred)\n",
    "OSVM_cr = classification_report(y_test, OSVM_pred)\n",
    "\n",
    "\n",
    "sns.heatmap(OSVM_cf, annot=True, cmap=plt.cm.viridis,annot_kws={\"size\": 12},fmt=\"d\")\n",
    "plt.title(\"Confusion Matrix\", fontsize=12, pad=20)\n",
    "plt.xticks(ticks = (0.5, 1.5), labels = (\"Normal\",\"Fraud\"),fontsize=10)\n",
    "plt.yticks(ticks = (0.5, 1.5), labels = (\"Normal\",\"Fraud\"),rotation=0,fontsize=10)\n",
    "plt.ylabel(\"Actual Class\", labelpad=10)\n",
    "plt.xlabel(\"Predicted Class\", labelpad=10)\n",
    "print('\\033[1m' + 'SMOTE Support Vector Machine')\n",
    "print(\"Classification Report\")\n",
    "print(\"-----------------------------------------------------------\")\n",
    "print(OSVM_cr)\n",
    "print(\"-----------------------------------------------------------\")"
   ]
  },
  {
   "cell_type": "code",
   "execution_count": 42,
   "id": "1f51fde8",
   "metadata": {},
   "outputs": [],
   "source": [
    "# SMOTE Support Vector Machine Metrics\n",
    "\n",
    "TP,FN,FP,TN = OSVM_cf.ravel()\n",
    "\n",
    "OSVM_pre = round(TN/(TN+FN),2)\n",
    "OSVM_rec = round(TN/(TN+FP),2)\n",
    "OSVM_f1 = round(2*(((TN/(TN+FN))*(TN/(TN+FP)))/((TN/(TN+FN))+(TN/(TN+FP)))),2)\n",
    "OSVM_acc = round((TP+TN)/(TP+TN+FP+FN),2)"
   ]
  },
  {
   "cell_type": "code",
   "execution_count": 62,
   "id": "ff01d8d3",
   "metadata": {},
   "outputs": [],
   "source": [
    "# Generating False Positive Rate, True Positve Rate and Threshold\n",
    "\n",
    "OSVM_fpr, OSVM_tpr, OSVM_threshold = roc_curve(y_test, OSVM_pred)"
   ]
  },
  {
   "cell_type": "markdown",
   "id": "8418f05f",
   "metadata": {},
   "source": [
    "# Model Performance Analysis"
   ]
  },
  {
   "cell_type": "code",
   "execution_count": 44,
   "id": "bee1f676",
   "metadata": {},
   "outputs": [],
   "source": [
    "# Near Miss Undersampling Results\n",
    "\n",
    "undersampled_data = {'Model':[\"Logistic Regression\", \"Decision Tree\", \"K-Nearest Neighbors\", \"Support Vector Machine\"],\n",
    "    \"Precision\":[ULR_pre,UDT_pre,UKNN_pre,USVM_pre],\n",
    "    'Recall':[ULR_rec,UDT_rec,UKNN_rec,USVM_rec],\n",
    "    'F1-Score':[ULR_f1,UDT_f1,UKNN_f1,USVM_f1],\n",
    "    'Accuracy':[ULR_acc,UDT_acc,UKNN_acc,USVM_acc]}"
   ]
  },
  {
   "cell_type": "code",
   "execution_count": 45,
   "id": "50f37908",
   "metadata": {},
   "outputs": [
    {
     "data": {
      "text/html": [
       "<div>\n",
       "<style scoped>\n",
       "    .dataframe tbody tr th:only-of-type {\n",
       "        vertical-align: middle;\n",
       "    }\n",
       "\n",
       "    .dataframe tbody tr th {\n",
       "        vertical-align: top;\n",
       "    }\n",
       "\n",
       "    .dataframe thead th {\n",
       "        text-align: right;\n",
       "    }\n",
       "</style>\n",
       "<table border=\"1\" class=\"dataframe\">\n",
       "  <thead>\n",
       "    <tr style=\"text-align: right;\">\n",
       "      <th></th>\n",
       "      <th>Model</th>\n",
       "      <th>Precision</th>\n",
       "      <th>Recall</th>\n",
       "      <th>F1-Score</th>\n",
       "      <th>Accuracy</th>\n",
       "    </tr>\n",
       "  </thead>\n",
       "  <tbody>\n",
       "    <tr>\n",
       "      <th>0</th>\n",
       "      <td>Logistic Regression</td>\n",
       "      <td>0.00</td>\n",
       "      <td>0.95</td>\n",
       "      <td>0.01</td>\n",
       "      <td>0.59</td>\n",
       "    </tr>\n",
       "    <tr>\n",
       "      <th>1</th>\n",
       "      <td>Decision Tree</td>\n",
       "      <td>0.00</td>\n",
       "      <td>0.94</td>\n",
       "      <td>0.00</td>\n",
       "      <td>0.26</td>\n",
       "    </tr>\n",
       "    <tr>\n",
       "      <th>2</th>\n",
       "      <td>K-Nearest Neighbors</td>\n",
       "      <td>0.01</td>\n",
       "      <td>0.96</td>\n",
       "      <td>0.01</td>\n",
       "      <td>0.69</td>\n",
       "    </tr>\n",
       "    <tr>\n",
       "      <th>3</th>\n",
       "      <td>Support Vector Machine</td>\n",
       "      <td>0.02</td>\n",
       "      <td>0.88</td>\n",
       "      <td>0.03</td>\n",
       "      <td>0.90</td>\n",
       "    </tr>\n",
       "  </tbody>\n",
       "</table>\n",
       "</div>"
      ],
      "text/plain": [
       "                    Model  Precision  Recall  F1-Score  Accuracy\n",
       "0     Logistic Regression       0.00    0.95      0.01      0.59\n",
       "1           Decision Tree       0.00    0.94      0.00      0.26\n",
       "2     K-Nearest Neighbors       0.01    0.96      0.01      0.69\n",
       "3  Support Vector Machine       0.02    0.88      0.03      0.90"
      ]
     },
     "execution_count": 45,
     "metadata": {},
     "output_type": "execute_result"
    }
   ],
   "source": [
    "undersampled_model = pd.DataFrame(undersampled_data)\n",
    "undersampled_model"
   ]
  },
  {
   "cell_type": "code",
   "execution_count": 64,
   "id": "120b30ed",
   "metadata": {
    "scrolled": false
   },
   "outputs": [
    {
     "data": {
      "text/plain": [
       "<matplotlib.legend.Legend at 0x2389a35d190>"
      ]
     },
     "execution_count": 64,
     "metadata": {},
     "output_type": "execute_result"
    },
    {
     "data": {
      "image/png": "[encoded data removed]",
      "text/plain": [
       "<Figure size 1152x576 with 1 Axes>"
      ]
     },
     "metadata": {
      "needs_background": "light"
     },
     "output_type": "display_data"
    }
   ],
   "source": [
    "# Generating ROC Curve for Undersampled Data\n",
    "\n",
    "plt.figure(figsize=(16,8))\n",
    "plt.title('ROC Curve for Classification Model \\n with Undersampled Data', fontsize=14)\n",
    "plt.plot(ULR_fpr, ULR_tpr, label ='Logistic Regression Score: {:.4f}'.format(roc_auc_score(y_test, ULR_pred)))\n",
    "plt.plot(UKNN_fpr, UKNN_tpr, label='KNearest Neighbors Classifier Score: {:.4f}'.format(roc_auc_score(y_test, UKNN_pred)))\n",
    "plt.plot(USVM_fpr, USVM_tpr, label='Support Vector Classifier Score: {:.4f}'.format(roc_auc_score(y_test, USVM_pred)))\n",
    "plt.plot(UDT_fpr, UDT_tpr, label='Decision Tree Classifier Score: {:.4f}'.format(roc_auc_score(y_test, UDT_pred)))\n",
    "plt.plot([0, 1], [0, 1], 'k--')\n",
    "plt.axis([-0.01, 1, 0, 1])\n",
    "plt.xlabel('False Positive Rate', fontsize=16)\n",
    "plt.ylabel('True Positive Rate', fontsize=16)\n",
    "plt.annotate('Minimum ROC Score of 50% \\n (This is the minimum score to get)', xy=(0.5, 0.5), xytext=(0.6, 0.3),\n",
    "                arrowprops=dict(facecolor='#6E726D', shrink=0.05),)\n",
    "plt.legend()"
   ]
  },
  {
   "cell_type": "markdown",
   "id": "4799cc93",
   "metadata": {},
   "source": [
    "Based on ROC curve above for all the classifier using undersampled dataset, the Support Vector Machine had the highest TPR with the lowest FPR values. This is translated into the AUC score of the SVC with score of 0.891"
   ]
  },
  {
   "cell_type": "code",
   "execution_count": 66,
   "id": "35b97b0a",
   "metadata": {},
   "outputs": [],
   "source": [
    "# SMOTE Oversampling Results\n",
    "\n",
    "oversampled_data = {'Model':[\"Logistic Regression\", \"Decision Tree\", \"K-Nearest Neighbors\", \"Support Vector Machine\"],\n",
    "    \"Precision\":[OLR_pre,ODT_pre,OKNN_pre,OSVM_pre],\n",
    "    'Recall':[OLR_rec,ODT_rec,OKNN_rec,OSVM_rec],\n",
    "    'F1-Score':[OLR_f1,ODT_f1,OKNN_f1,OSVM_f1],\n",
    "    'Accuracy':[OLR_acc,ODT_acc,OKNN_acc,OSVM_acc]}"
   ]
  },
  {
   "cell_type": "code",
   "execution_count": 67,
   "id": "edd25027",
   "metadata": {},
   "outputs": [
    {
     "data": {
      "text/html": [
       "<div>\n",
       "<style scoped>\n",
       "    .dataframe tbody tr th:only-of-type {\n",
       "        vertical-align: middle;\n",
       "    }\n",
       "\n",
       "    .dataframe tbody tr th {\n",
       "        vertical-align: top;\n",
       "    }\n",
       "\n",
       "    .dataframe thead th {\n",
       "        text-align: right;\n",
       "    }\n",
       "</style>\n",
       "<table border=\"1\" class=\"dataframe\">\n",
       "  <thead>\n",
       "    <tr style=\"text-align: right;\">\n",
       "      <th></th>\n",
       "      <th>Model</th>\n",
       "      <th>Precision</th>\n",
       "      <th>Recall</th>\n",
       "      <th>F1-Score</th>\n",
       "      <th>Accuracy</th>\n",
       "    </tr>\n",
       "  </thead>\n",
       "  <tbody>\n",
       "    <tr>\n",
       "      <th>0</th>\n",
       "      <td>Logistic Regression</td>\n",
       "      <td>0.06</td>\n",
       "      <td>0.94</td>\n",
       "      <td>0.12</td>\n",
       "      <td>0.98</td>\n",
       "    </tr>\n",
       "    <tr>\n",
       "      <th>1</th>\n",
       "      <td>Decision Tree</td>\n",
       "      <td>0.29</td>\n",
       "      <td>0.79</td>\n",
       "      <td>0.43</td>\n",
       "      <td>1.00</td>\n",
       "    </tr>\n",
       "    <tr>\n",
       "      <th>2</th>\n",
       "      <td>K-Nearest Neighbors</td>\n",
       "      <td>0.50</td>\n",
       "      <td>0.88</td>\n",
       "      <td>0.64</td>\n",
       "      <td>1.00</td>\n",
       "    </tr>\n",
       "    <tr>\n",
       "      <th>3</th>\n",
       "      <td>Support Vector Machine</td>\n",
       "      <td>0.10</td>\n",
       "      <td>0.92</td>\n",
       "      <td>0.18</td>\n",
       "      <td>0.99</td>\n",
       "    </tr>\n",
       "  </tbody>\n",
       "</table>\n",
       "</div>"
      ],
      "text/plain": [
       "                    Model  Precision  Recall  F1-Score  Accuracy\n",
       "0     Logistic Regression       0.06    0.94      0.12      0.98\n",
       "1           Decision Tree       0.29    0.79      0.43      1.00\n",
       "2     K-Nearest Neighbors       0.50    0.88      0.64      1.00\n",
       "3  Support Vector Machine       0.10    0.92      0.18      0.99"
      ]
     },
     "execution_count": 67,
     "metadata": {},
     "output_type": "execute_result"
    }
   ],
   "source": [
    "oversampled_model = pd.DataFrame(oversampled_data)\n",
    "oversampled_model"
   ]
  },
  {
   "cell_type": "code",
   "execution_count": 56,
   "id": "fddb96fa",
   "metadata": {},
   "outputs": [
    {
     "data": {
      "text/plain": [
       "<matplotlib.legend.Legend at 0x2389a8584f0>"
      ]
     },
     "execution_count": 56,
     "metadata": {},
     "output_type": "execute_result"
    },
    {
     "data": {
      "image/png": "[encoded data removed]",
      "text/plain": [
       "<Figure size 1152x576 with 1 Axes>"
      ]
     },
     "metadata": {
      "needs_background": "light"
     },
     "output_type": "display_data"
    }
   ],
   "source": [
    "# Generating ROC Curve for Oversampled Data\n",
    "\n",
    "plt.figure(figsize=(16,8))\n",
    "plt.title('ROC Curve for Classification Model \\n with Oversampled Data', fontsize=14)\n",
    "plt.plot(OLR_fpr, OLR_tpr, label ='Logistic Regression Score: {:.4f}'.format(roc_auc_score(y_test, OLR_pred)))\n",
    "plt.plot(OKNN_fpr, OKNN_tpr, label='KNearest Neighbors Classifier Score: {:.4f}'.format(roc_auc_score(y_test, OKNN_pred)))\n",
    "plt.plot(OSVM_fpr, OSVM_tpr, label='Support Vector Classifier Score: {:.4f}'.format(roc_auc_score(y_test, OSVM_pred)))\n",
    "plt.plot(ODT_fpr, ODT_tpr, label='Decision Tree Classifier Score: {:.4f}'.format(roc_auc_score(y_test, ODT_pred)))\n",
    "plt.plot([0, 1], [0, 1], 'k--')\n",
    "plt.axis([-0.01, 1, 0, 1])\n",
    "plt.xlabel('False Negative Rate', fontsize=16)\n",
    "plt.ylabel('True Negative Rate', fontsize=16)\n",
    "plt.annotate('Minimum ROC Score of 50% \\n (This is the minimum score to get)', xy=(0.5, 0.5), xytext=(0.6, 0.3),\n",
    "                arrowprops=dict(facecolor='#6E726D', shrink=0.05),)\n",
    "plt.legend()"
   ]
  },
  {
   "cell_type": "markdown",
   "id": "d827c814",
   "metadata": {},
   "source": [
    "Based on ROC curve above for all the classifier using oversampled dataset, all of the classifier gave out good score with relatively high TPR and low FPR. Logistic Regression provided the highest AUC score with score of 0.9581 from all the model in the case of oversampled data."
   ]
  },
  {
   "cell_type": "code",
   "execution_count": null,
   "id": "18a5fc82",
   "metadata": {},
   "outputs": [],
   "source": []
  }
 ],
 "metadata": {
  "kernelspec": {
   "display_name": "Python 3",
   "language": "python",
   "name": "python3"
  },
  "language_info": {
   "codemirror_mode": {
    "name": "ipython",
    "version": 3
   },
   "file_extension": ".py",
   "mimetype": "text/x-python",
   "name": "python",
   "nbconvert_exporter": "python",
   "pygments_lexer": "ipython3",
   "version": "3.8.8"
  }
 },
 "nbformat": 4,
 "nbformat_minor": 5
}
